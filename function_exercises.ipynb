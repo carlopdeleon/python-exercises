{
 "cells": [
  {
   "cell_type": "markdown",
   "id": "b7e662ff",
   "metadata": {},
   "source": [
    "# Function Exercises"
   ]
  },
  {
   "cell_type": "markdown",
   "id": "3a7d8a91",
   "metadata": {},
   "source": [
    "#### 1. Define a function named is_two. It should accept one input and return True if the passed input is either the number or the string 2, False otherwise."
   ]
  },
  {
   "cell_type": "code",
   "execution_count": 7,
   "id": "23ba0268",
   "metadata": {},
   "outputs": [
    {
     "name": "stdout",
     "output_type": "stream",
     "text": [
      "True\n",
      "False\n"
     ]
    }
   ],
   "source": [
    "def is_two(ab):\n",
    "    if ab == 2 or ab == \"2\":\n",
    "        return True\n",
    "    else:\n",
    "        return False\n",
    "print(is_two(2))\n",
    "print(is_two(3))"
   ]
  },
  {
   "cell_type": "markdown",
   "id": "e5ac99ec",
   "metadata": {},
   "source": [
    "#### 2. Define a function named is_vowel. It should return True if the passed string is a vowel, False otherwise."
   ]
  },
  {
   "cell_type": "code",
   "execution_count": 8,
   "id": "83d95128",
   "metadata": {},
   "outputs": [],
   "source": [
    "list_vowels = ['a','e','i','o','u']\n",
    "\n",
    "def is_vowel(chosen_vowel):\n",
    "    if chosen_vowel in list_vowels:\n",
    "        return True\n",
    "    else:\n",
    "        return False"
   ]
  },
  {
   "cell_type": "code",
   "execution_count": 9,
   "id": "bef91e92",
   "metadata": {},
   "outputs": [
    {
     "data": {
      "text/plain": [
       "True"
      ]
     },
     "execution_count": 9,
     "metadata": {},
     "output_type": "execute_result"
    }
   ],
   "source": [
    "is_vowel('e')"
   ]
  },
  {
   "cell_type": "code",
   "execution_count": 10,
   "id": "56f576c5",
   "metadata": {},
   "outputs": [
    {
     "data": {
      "text/plain": [
       "False"
      ]
     },
     "execution_count": 10,
     "metadata": {},
     "output_type": "execute_result"
    }
   ],
   "source": [
    "is_vowel('f')"
   ]
  },
  {
   "cell_type": "code",
   "execution_count": 11,
   "id": "efd61824",
   "metadata": {},
   "outputs": [
    {
     "data": {
      "text/plain": [
       "True"
      ]
     },
     "execution_count": 11,
     "metadata": {},
     "output_type": "execute_result"
    }
   ],
   "source": [
    "is_vowel(\"e\")"
   ]
  },
  {
   "cell_type": "markdown",
   "id": "67d08823",
   "metadata": {},
   "source": [
    "##### 3. Define a function named is_consonant. It should return True if the passed string is a consonant, False otherwise. Use your is_vowel function to accomplish this."
   ]
  },
  {
   "cell_type": "code",
   "execution_count": 30,
   "id": "49b7fc7f",
   "metadata": {},
   "outputs": [],
   "source": [
    "def is_consonant(a_consonant):\n",
    "    if is_vowel(a_consonant) != True:\n",
    "        return True\n",
    "    else:\n",
    "        return False"
   ]
  },
  {
   "cell_type": "code",
   "execution_count": 31,
   "id": "8cee467e",
   "metadata": {},
   "outputs": [
    {
     "data": {
      "text/plain": [
       "True"
      ]
     },
     "execution_count": 31,
     "metadata": {},
     "output_type": "execute_result"
    }
   ],
   "source": [
    "is_consonant('c')"
   ]
  },
  {
   "cell_type": "code",
   "execution_count": 32,
   "id": "0f227e89",
   "metadata": {},
   "outputs": [
    {
     "data": {
      "text/plain": [
       "False"
      ]
     },
     "execution_count": 32,
     "metadata": {},
     "output_type": "execute_result"
    }
   ],
   "source": [
    "is_consonant('a')"
   ]
  },
  {
   "cell_type": "markdown",
   "id": "934dcaa0",
   "metadata": {},
   "source": [
    "### 4. Define a function that accepts a string that is a word. The function should capitalize the first letter of the word if the word starts with a consonant."
   ]
  },
  {
   "cell_type": "code",
   "execution_count": 175,
   "id": "fec61d47",
   "metadata": {},
   "outputs": [],
   "source": [
    "def accepts_strings(aword):\n",
    "    if aword[0] in list_vowels:\n",
    "        return aword.title()"
   ]
  },
  {
   "cell_type": "code",
   "execution_count": 178,
   "id": "0480b087",
   "metadata": {},
   "outputs": [],
   "source": [
    "accepts_strings('the')"
   ]
  },
  {
   "cell_type": "code",
   "execution_count": 179,
   "id": "b4549640",
   "metadata": {},
   "outputs": [
    {
     "data": {
      "text/plain": [
       "'A Test'"
      ]
     },
     "execution_count": 179,
     "metadata": {},
     "output_type": "execute_result"
    }
   ],
   "source": [
    "accepts_strings('a test')"
   ]
  },
  {
   "cell_type": "code",
   "execution_count": 163,
   "id": "86d8bb6b",
   "metadata": {},
   "outputs": [],
   "source": [
    "def accepts_strings1(x):\n",
    "    avowel = 'aeiouAEIOU'\n",
    "    if x.l\n",
    "        return x\n",
    "    return\n"
   ]
  },
  {
   "cell_type": "code",
   "execution_count": 164,
   "id": "ff9367a1",
   "metadata": {},
   "outputs": [
    {
     "data": {
      "text/plain": [
       "'The String'"
      ]
     },
     "execution_count": 164,
     "metadata": {},
     "output_type": "execute_result"
    }
   ],
   "source": [
    "accepts_strings('the string')"
   ]
  },
  {
   "cell_type": "code",
   "execution_count": 165,
   "id": "e6354523",
   "metadata": {},
   "outputs": [
    {
     "data": {
      "text/plain": [
       "'A Test'"
      ]
     },
     "execution_count": 165,
     "metadata": {},
     "output_type": "execute_result"
    }
   ],
   "source": [
    "accepts_strings('a test')"
   ]
  },
  {
   "cell_type": "markdown",
   "id": "5b59f832",
   "metadata": {},
   "source": [
    "### 5. Define a function named calculate_tip. It should accept a tip percentage (a number between 0 and 1) and the bill total, and return the amount to tip."
   ]
  },
  {
   "cell_type": "code",
   "execution_count": 205,
   "id": "7b484345",
   "metadata": {},
   "outputs": [
    {
     "name": "stdout",
     "output_type": "stream",
     "text": [
      "How much did it cost?: 20\n",
      "What percent tip do you want?: 10/15/2010\n"
     ]
    },
    {
     "data": {
      "text/plain": [
       "2.0"
      ]
     },
     "execution_count": 205,
     "metadata": {},
     "output_type": "execute_result"
    }
   ],
   "source": [
    "def calculate_tip():\n",
    "    bill = int(input('How much did it cost?: '))\n",
    "    tip_percent = int(input('What percent tip do you want?: 10/15/20'))\n",
    "    total_tip = bill * (tip_percent/100)\n",
    "    return total_tip\n",
    "\n",
    "calculate_tip()"
   ]
  },
  {
   "cell_type": "markdown",
   "id": "4fb5eb26",
   "metadata": {},
   "source": [
    "#### 6. Define a function named apply_discount. It should accept a original price, and a discount percentage, and return the price after the discount is applied."
   ]
  },
  {
   "cell_type": "code",
   "execution_count": 206,
   "id": "11fe8f3f",
   "metadata": {},
   "outputs": [],
   "source": [
    "def apply_discount():\n",
    "    original_price = int(input('How much did it cost?: '))\n",
    "    discount = int(input('What percentage is the discount?: '))\n",
    "    discount_total = original_price * (discount/100)\n",
    "    total = original_price - discount_total\n",
    "    return total"
   ]
  },
  {
   "cell_type": "code",
   "execution_count": 207,
   "id": "450f302e",
   "metadata": {},
   "outputs": [
    {
     "name": "stdout",
     "output_type": "stream",
     "text": [
      "How much did it cost?: 100\n",
      "What percentage is the discount?: 20\n"
     ]
    },
    {
     "data": {
      "text/plain": [
       "80.0"
      ]
     },
     "execution_count": 207,
     "metadata": {},
     "output_type": "execute_result"
    }
   ],
   "source": [
    "apply_discount()"
   ]
  },
  {
   "cell_type": "markdown",
   "id": "b29b46a2",
   "metadata": {},
   "source": [
    "#### 7. Define a function named handle_commas. It should accept a string that is a number that contains commas in it as input, and return a number as output."
   ]
  },
  {
   "cell_type": "code",
   "execution_count": 214,
   "id": "088fb22d",
   "metadata": {},
   "outputs": [],
   "source": [
    "def handle_commas():\n",
    "    the_string = input('What is your number:')\n",
    "    conversion = int(the_string.replace(',',''))\n",
    "    return conversion\n",
    "    "
   ]
  },
  {
   "cell_type": "code",
   "execution_count": 215,
   "id": "c3ff774a",
   "metadata": {},
   "outputs": [
    {
     "name": "stdout",
     "output_type": "stream",
     "text": [
      "What is your number:2,000\n"
     ]
    },
    {
     "data": {
      "text/plain": [
       "2000"
      ]
     },
     "execution_count": 215,
     "metadata": {},
     "output_type": "execute_result"
    }
   ],
   "source": [
    "handle_commas()"
   ]
  },
  {
   "cell_type": "markdown",
   "id": "dfa739f8",
   "metadata": {},
   "source": [
    "#### 8. Define a function named get_letter_grade. It should accept a number and return the letter grade associated with that number (A-F)."
   ]
  },
  {
   "cell_type": "code",
   "execution_count": 220,
   "id": "a220208a",
   "metadata": {},
   "outputs": [],
   "source": [
    "def get_letter_grade():\n",
    "    grade_percentage = int(input('What was your score?:'))\n",
    "    \n",
    "    if 90 <= grade_percentage <= 100:\n",
    "        return \"A\"\n",
    "    elif 80 <= grade_percentage <= 89:\n",
    "        return \"B\"\n",
    "    elif 70 <=  grade_percentage <= 79:\n",
    "        return \"C\"\n",
    "    elif 60 <= grade_percentage <= 69:\n",
    "        return \"D\"\n",
    "    else:\n",
    "        return \"F\""
   ]
  },
  {
   "cell_type": "code",
   "execution_count": 221,
   "id": "bb5bc90b",
   "metadata": {},
   "outputs": [
    {
     "name": "stdout",
     "output_type": "stream",
     "text": [
      "What was your score?:40\n"
     ]
    },
    {
     "data": {
      "text/plain": [
       "'F'"
      ]
     },
     "execution_count": 221,
     "metadata": {},
     "output_type": "execute_result"
    }
   ],
   "source": [
    "get_letter_grade()"
   ]
  },
  {
   "cell_type": "markdown",
   "id": "4c201e4d",
   "metadata": {},
   "source": [
    "##### 9. Define a function named remove_vowels that accepts a string and returns a string with all the vowels removed."
   ]
  },
  {
   "cell_type": "code",
   "execution_count": 230,
   "id": "a51e0892",
   "metadata": {},
   "outputs": [],
   "source": [
    "def remove_vowels():\n",
    "    list_vowels = 'aeiouAEIOU'\n",
    "    the_string = input('What words?: ')\n",
    "    for vowels in the_string:\n",
    "        if vowel in list_vowels:\n",
    "            return thestring.replace(list_vowels,'')\n",
    "    "
   ]
  },
  {
   "cell_type": "code",
   "execution_count": 231,
   "id": "e3ed710f",
   "metadata": {},
   "outputs": [
    {
     "name": "stdout",
     "output_type": "stream",
     "text": [
      "What words?: the string\n"
     ]
    },
    {
     "ename": "NameError",
     "evalue": "name 'vowel' is not defined",
     "output_type": "error",
     "traceback": [
      "\u001b[0;31m---------------------------------------------------------------------------\u001b[0m",
      "\u001b[0;31mNameError\u001b[0m                                 Traceback (most recent call last)",
      "Input \u001b[0;32mIn [231]\u001b[0m, in \u001b[0;36m<cell line: 1>\u001b[0;34m()\u001b[0m\n\u001b[0;32m----> 1\u001b[0m \u001b[43mremove_vowels\u001b[49m\u001b[43m(\u001b[49m\u001b[43m)\u001b[49m\n",
      "Input \u001b[0;32mIn [230]\u001b[0m, in \u001b[0;36mremove_vowels\u001b[0;34m()\u001b[0m\n\u001b[1;32m      3\u001b[0m the_string \u001b[38;5;241m=\u001b[39m \u001b[38;5;28minput\u001b[39m(\u001b[38;5;124m'\u001b[39m\u001b[38;5;124mWhat words?: \u001b[39m\u001b[38;5;124m'\u001b[39m)\n\u001b[1;32m      4\u001b[0m \u001b[38;5;28;01mfor\u001b[39;00m vowels \u001b[38;5;129;01min\u001b[39;00m the_string:\n\u001b[0;32m----> 5\u001b[0m     \u001b[38;5;28;01mif\u001b[39;00m \u001b[43mvowel\u001b[49m \u001b[38;5;129;01min\u001b[39;00m list_vowels:\n\u001b[1;32m      6\u001b[0m         \u001b[38;5;28;01mreturn\u001b[39;00m thestring\u001b[38;5;241m.\u001b[39mreplace(list_vowels,\u001b[38;5;124m'\u001b[39m\u001b[38;5;124m'\u001b[39m)\n",
      "\u001b[0;31mNameError\u001b[0m: name 'vowel' is not defined"
     ]
    }
   ],
   "source": [
    "remove_vowels()"
   ]
  },
  {
   "cell_type": "markdown",
   "id": "56dcefc0",
   "metadata": {},
   "source": [
    "#### 10. Define a function named normalize_name. It should accept a string and return a valid python identifier, that is:"
   ]
  },
  {
   "cell_type": "code",
   "execution_count": 243,
   "id": "b751a0cc",
   "metadata": {},
   "outputs": [],
   "source": [
    "def normalize_name():\n",
    "    name = input(\"what is your name?: \")\n",
    "    updated_name = name.lower().strip().replace(' ', '_')\n",
    "    return updated_name"
   ]
  },
  {
   "cell_type": "code",
   "execution_count": 244,
   "id": "8a7fae76",
   "metadata": {},
   "outputs": [
    {
     "name": "stdout",
     "output_type": "stream",
     "text": [
      "what is your name?: Carlo De Leon\n"
     ]
    },
    {
     "data": {
      "text/plain": [
       "'carlo_de_leon'"
      ]
     },
     "execution_count": 244,
     "metadata": {},
     "output_type": "execute_result"
    }
   ],
   "source": [
    "normalize_name()"
   ]
  },
  {
   "cell_type": "markdown",
   "id": "bd8b1fac",
   "metadata": {},
   "source": [
    "#### 11. Write a function named cumulative_sum that accepts a list of numbers and returns a list that is the cumulative sum of the numbers in the list."
   ]
  },
  {
   "cell_type": "code",
   "execution_count": 247,
   "id": "36a47838",
   "metadata": {},
   "outputs": [],
   "source": [
    "def cumulative_sum():\n",
    "    list_of_numbers = int(input('What numbers?: '))\n",
    "    sum_of_list = sum(list_of_numbers)\n",
    "    return sum_of_list"
   ]
  },
  {
   "cell_type": "code",
   "execution_count": 248,
   "id": "cfcf1a23",
   "metadata": {},
   "outputs": [
    {
     "name": "stdout",
     "output_type": "stream",
     "text": [
      "What numbers?: 5, 5, 5\n"
     ]
    },
    {
     "ename": "ValueError",
     "evalue": "invalid literal for int() with base 10: '5, 5, 5'",
     "output_type": "error",
     "traceback": [
      "\u001b[0;31m---------------------------------------------------------------------------\u001b[0m",
      "\u001b[0;31mValueError\u001b[0m                                Traceback (most recent call last)",
      "Input \u001b[0;32mIn [248]\u001b[0m, in \u001b[0;36m<cell line: 1>\u001b[0;34m()\u001b[0m\n\u001b[0;32m----> 1\u001b[0m \u001b[43mcumulative_sum\u001b[49m\u001b[43m(\u001b[49m\u001b[43m)\u001b[49m\n",
      "Input \u001b[0;32mIn [247]\u001b[0m, in \u001b[0;36mcumulative_sum\u001b[0;34m()\u001b[0m\n\u001b[1;32m      1\u001b[0m \u001b[38;5;28;01mdef\u001b[39;00m \u001b[38;5;21mcumulative_sum\u001b[39m():\n\u001b[0;32m----> 2\u001b[0m     list_of_numbers \u001b[38;5;241m=\u001b[39m \u001b[38;5;28;43mint\u001b[39;49m\u001b[43m(\u001b[49m\u001b[38;5;28;43minput\u001b[39;49m\u001b[43m(\u001b[49m\u001b[38;5;124;43m'\u001b[39;49m\u001b[38;5;124;43mWhat numbers?: \u001b[39;49m\u001b[38;5;124;43m'\u001b[39;49m\u001b[43m)\u001b[49m\u001b[43m)\u001b[49m\n\u001b[1;32m      3\u001b[0m     sum_of_list \u001b[38;5;241m=\u001b[39m \u001b[38;5;28msum\u001b[39m(list_of_numbers)\n\u001b[1;32m      4\u001b[0m     \u001b[38;5;28;01mreturn\u001b[39;00m sum_of_list\n",
      "\u001b[0;31mValueError\u001b[0m: invalid literal for int() with base 10: '5, 5, 5'"
     ]
    }
   ],
   "source": [
    "cumulative_sum()"
   ]
  },
  {
   "cell_type": "code",
   "execution_count": null,
   "id": "7e1a90cf",
   "metadata": {},
   "outputs": [],
   "source": []
  }
 ],
 "metadata": {
  "kernelspec": {
   "display_name": "Python 3 (ipykernel)",
   "language": "python",
   "name": "python3"
  },
  "language_info": {
   "codemirror_mode": {
    "name": "ipython",
    "version": 3
   },
   "file_extension": ".py",
   "mimetype": "text/x-python",
   "name": "python",
   "nbconvert_exporter": "python",
   "pygments_lexer": "ipython3",
   "version": "3.9.13"
  }
 },
 "nbformat": 4,
 "nbformat_minor": 5
}
