{
 "cells": [
  {
   "cell_type": "markdown",
   "id": "7c607bed",
   "metadata": {},
   "source": [
    "# Data Types and Variables Exercises"
   ]
  },
  {
   "cell_type": "markdown",
   "id": "c95b442b",
   "metadata": {},
   "source": [
    "#### 1. You have rented some movies for your kids: The little mermaid (for 3 days), Brother Bear (for 5 days, they love it), and Hercules (1 day, you don't know yet if they're going to like it). If price for a movie per day is 3 dollars, how much will you have to pay?"
   ]
  },
  {
   "cell_type": "code",
   "execution_count": 9,
   "id": "97b1047c",
   "metadata": {},
   "outputs": [
    {
     "name": "stdout",
     "output_type": "stream",
     "text": [
      "$ 27\n"
     ]
    }
   ],
   "source": [
    "Little_Mermaid = 3\n",
    "Brother_Bear = 5\n",
    "Hercules = 1\n",
    "price_per_day = 3\n",
    "Total = (Little_Mermaid * price_per_day)+ (Brother_Bear * price_per_day) + (Hercules * price_per_day) \n",
    "print(\"$\",Total)\n",
    "\n",
    "\n"
   ]
  },
  {
   "cell_type": "markdown",
   "id": "573a960d",
   "metadata": {},
   "source": [
    "#### 2. Suppose you're working as a contractor for 3 companies: Google, Amazon and Facebook, they pay you a different rate per hour. Google pays 400 dollars per hour, Amazon 380, and Facebook 350. How much will you receive in payment for this week? You worked 10 hours for Facebook, 6 hours for Google and 4 hours for Amazon."
   ]
  },
  {
   "cell_type": "code",
   "execution_count": 35,
   "id": "66e0a2f0",
   "metadata": {},
   "outputs": [
    {
     "name": "stdout",
     "output_type": "stream",
     "text": [
      "$ 7420\n"
     ]
    }
   ],
   "source": [
    "google = 400\n",
    "amazon = 380\n",
    "facebook = 350\n",
    "gg_hrs = 6\n",
    "amz_hrs = 4\n",
    "fb_hrs = 10\n",
    "week_income = (google *gg_hrs) + (amazon * amz_hrs) + (facebook * fb_hrs)\n",
    "print('$',week_income)"
   ]
  },
  {
   "cell_type": "markdown",
   "id": "d8d6bbf5",
   "metadata": {},
   "source": [
    "#### 3. A student can be enrolled to a class only if the class is not full and the class schedule does not conflict with her current schedule."
   ]
  },
  {
   "cell_type": "code",
   "execution_count": 37,
   "id": "410af61c",
   "metadata": {},
   "outputs": [
    {
     "name": "stdout",
     "output_type": "stream",
     "text": [
      "True\n"
     ]
    }
   ],
   "source": [
    "class_limit = 20\n",
    "students = [\"studentA\", \"studentB\", \"studentC\", \"studentD\"]\n",
    "len(students)\n",
    "can_be_enrolled = class_limit - len(students) >= 0\n",
    "\n",
    "\n",
    "# class review solution\n",
    "class_is_not_full = True\n",
    "schedule_does_not_conflict = True\n",
    "enroll = class_is_not_full and schedule_does_not_conflict\n",
    "print(enroll)\n",
    "\n",
    "\n",
    "\n",
    "\n"
   ]
  },
  {
   "cell_type": "markdown",
   "id": "6eb6a4d9",
   "metadata": {},
   "source": [
    "#### 4. A product offer can be applied only if people buys more than 2 items, and the offer has not expired. Premium members do not need to buy a specific amount of products.\n"
   ]
  },
  {
   "cell_type": "code",
   "execution_count": 38,
   "id": "fe24dc3e",
   "metadata": {},
   "outputs": [],
   "source": [
    "product_items = [\"product1\", 'product2', 'product3']\n",
    "product_offer_req = len(product_items) >= 2\n",
    "\n",
    "len(product_items)\n",
    "\n",
    "#class solution\n",
    "purchase_more_than_two = True\n",
    "product_not_expired = True\n",
    "prem_membership = False\n",
    "discount_eligible = product_not_expired and (purchase_more_than_two or prem_membership)"
   ]
  },
  {
   "cell_type": "code",
   "execution_count": 39,
   "id": "42417368",
   "metadata": {},
   "outputs": [
    {
     "data": {
      "text/plain": [
       "True"
      ]
     },
     "execution_count": 39,
     "metadata": {},
     "output_type": "execute_result"
    }
   ],
   "source": [
    "discount_eligible"
   ]
  },
  {
   "cell_type": "markdown",
   "id": "f6d359fc",
   "metadata": {},
   "source": [
    "#### 5. Username and Password"
   ]
  },
  {
   "cell_type": "code",
   "execution_count": 66,
   "id": "7440b3c8",
   "metadata": {},
   "outputs": [],
   "source": [
    "my_pw = \"dundundun\"\n",
    "my_usn = \"cpd\"\n",
    "\n",
    "password = len(my_pw) >= 5\n",
    "username = len(my_usn) <= 20\n",
    "test = password != username"
   ]
  },
  {
   "cell_type": "code",
   "execution_count": 61,
   "id": "58efe4d3",
   "metadata": {},
   "outputs": [
    {
     "data": {
      "text/plain": [
       "True"
      ]
     },
     "execution_count": 61,
     "metadata": {},
     "output_type": "execute_result"
    }
   ],
   "source": [
    "password"
   ]
  },
  {
   "cell_type": "code",
   "execution_count": 62,
   "id": "b6a3f809",
   "metadata": {},
   "outputs": [
    {
     "data": {
      "text/plain": [
       "True"
      ]
     },
     "execution_count": 62,
     "metadata": {},
     "output_type": "execute_result"
    }
   ],
   "source": [
    "username"
   ]
  },
  {
   "cell_type": "code",
   "execution_count": 63,
   "id": "eaf85513",
   "metadata": {},
   "outputs": [
    {
     "data": {
      "text/plain": [
       "False"
      ]
     },
     "execution_count": 63,
     "metadata": {},
     "output_type": "execute_result"
    }
   ],
   "source": [
    "test"
   ]
  },
  {
   "cell_type": "code",
   "execution_count": 67,
   "id": "6e0f0617",
   "metadata": {},
   "outputs": [],
   "source": [
    "my_pw = \"dundundun\"\n",
    "my_usn = \"cpd\""
   ]
  },
  {
   "cell_type": "code",
   "execution_count": 68,
   "id": "eb1f4cd2",
   "metadata": {},
   "outputs": [],
   "source": [
    "# bonus\n",
    "no_whitespace_for_username = not(my_usn.startswith(' ') or my_usn[-1] == ' ')\n",
    "no_whitespace_for_password = not(my_pw.startswith(' ') or my_pw[-1] == ' ')"
   ]
  },
  {
   "cell_type": "code",
   "execution_count": 69,
   "id": "707b589c",
   "metadata": {},
   "outputs": [],
   "source": [
    "user_and_pass_valid = no_whitespace_for_username or no_whitespace_for_password"
   ]
  },
  {
   "cell_type": "code",
   "execution_count": 70,
   "id": "3456d531",
   "metadata": {},
   "outputs": [
    {
     "data": {
      "text/plain": [
       "True"
      ]
     },
     "execution_count": 70,
     "metadata": {},
     "output_type": "execute_result"
    }
   ],
   "source": [
    "user_and_pass_valid"
   ]
  },
  {
   "cell_type": "code",
   "execution_count": null,
   "id": "c902a046",
   "metadata": {},
   "outputs": [],
   "source": []
  }
 ],
 "metadata": {
  "kernelspec": {
   "display_name": "Python 3 (ipykernel)",
   "language": "python",
   "name": "python3"
  },
  "language_info": {
   "codemirror_mode": {
    "name": "ipython",
    "version": 3
   },
   "file_extension": ".py",
   "mimetype": "text/x-python",
   "name": "python",
   "nbconvert_exporter": "python",
   "pygments_lexer": "ipython3",
   "version": "3.9.13"
  }
 },
 "nbformat": 4,
 "nbformat_minor": 5
}
