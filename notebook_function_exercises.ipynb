{
 "cells": [
  {
   "cell_type": "markdown",
   "id": "b7e662ff",
   "metadata": {},
   "source": [
    "# Function Exercises"
   ]
  },
  {
   "cell_type": "markdown",
   "id": "3a7d8a91",
   "metadata": {},
   "source": [
    "#### 1. Define a function named is_two. It should accept one input and return True if the passed input is either the number or the string 2, False otherwise."
   ]
  },
  {
   "cell_type": "code",
   "execution_count": 345,
   "id": "23ba0268",
   "metadata": {},
   "outputs": [
    {
     "name": "stdout",
     "output_type": "stream",
     "text": [
      "True\n",
      "False\n",
      "True\n"
     ]
    }
   ],
   "source": [
    "def is_two(ab):\n",
    "    if ab == 2 or ab == \"2\":\n",
    "        return True\n",
    "    else:\n",
    "        return False\n",
    "print(is_two(2))\n",
    "print(is_two(3))\n",
    "print(is_two(\"2\"))"
   ]
  },
  {
   "cell_type": "markdown",
   "id": "e5ac99ec",
   "metadata": {},
   "source": [
    "#### 2. Define a function named is_vowel. It should return True if the passed string is a vowel, False otherwise."
   ]
  },
  {
   "cell_type": "code",
   "execution_count": 8,
   "id": "83d95128",
   "metadata": {},
   "outputs": [],
   "source": [
    "list_vowels = ['a','e','i','o','u']\n",
    "\n",
    "def is_vowel(chosen_vowel):\n",
    "    if chosen_vowel in list_vowels:\n",
    "        return True\n",
    "    else:\n",
    "        return False"
   ]
  },
  {
   "cell_type": "code",
   "execution_count": 9,
   "id": "bef91e92",
   "metadata": {},
   "outputs": [
    {
     "data": {
      "text/plain": [
       "True"
      ]
     },
     "execution_count": 9,
     "metadata": {},
     "output_type": "execute_result"
    }
   ],
   "source": [
    "is_vowel('e')"
   ]
  },
  {
   "cell_type": "code",
   "execution_count": 10,
   "id": "56f576c5",
   "metadata": {},
   "outputs": [
    {
     "data": {
      "text/plain": [
       "False"
      ]
     },
     "execution_count": 10,
     "metadata": {},
     "output_type": "execute_result"
    }
   ],
   "source": [
    "is_vowel('f')"
   ]
  },
  {
   "cell_type": "code",
   "execution_count": 11,
   "id": "efd61824",
   "metadata": {},
   "outputs": [
    {
     "data": {
      "text/plain": [
       "True"
      ]
     },
     "execution_count": 11,
     "metadata": {},
     "output_type": "execute_result"
    }
   ],
   "source": [
    "is_vowel(\"e\")"
   ]
  },
  {
   "cell_type": "code",
   "execution_count": null,
   "id": "a3cbecf9",
   "metadata": {},
   "outputs": [],
   "source": [
    "# Class Review Solution\n",
    "def is_vowel(string):\n",
    "    return len(string) == 1 and string.lower() in 'aeiou'"
   ]
  },
  {
   "cell_type": "markdown",
   "id": "67d08823",
   "metadata": {},
   "source": [
    "##### 3. Define a function named is_consonant. It should return True if the passed string is a consonant, False otherwise. Use your is_vowel function to accomplish this."
   ]
  },
  {
   "cell_type": "code",
   "execution_count": 30,
   "id": "49b7fc7f",
   "metadata": {},
   "outputs": [],
   "source": [
    "def is_consonant(a_consonant):\n",
    "    if is_vowel(a_consonant) != True:\n",
    "        return True\n",
    "    else:\n",
    "        return False"
   ]
  },
  {
   "cell_type": "code",
   "execution_count": 31,
   "id": "8cee467e",
   "metadata": {},
   "outputs": [
    {
     "data": {
      "text/plain": [
       "True"
      ]
     },
     "execution_count": 31,
     "metadata": {},
     "output_type": "execute_result"
    }
   ],
   "source": [
    "is_consonant('c')"
   ]
  },
  {
   "cell_type": "code",
   "execution_count": 32,
   "id": "0f227e89",
   "metadata": {},
   "outputs": [
    {
     "data": {
      "text/plain": [
       "False"
      ]
     },
     "execution_count": 32,
     "metadata": {},
     "output_type": "execute_result"
    }
   ],
   "source": [
    "is_consonant('a')"
   ]
  },
  {
   "cell_type": "markdown",
   "id": "934dcaa0",
   "metadata": {},
   "source": [
    "### 4. Define a function that accepts a string that is a word. The function should capitalize the first letter of the word if the word starts with a consonant."
   ]
  },
  {
   "cell_type": "code",
   "execution_count": 268,
   "id": "fec61d47",
   "metadata": {},
   "outputs": [],
   "source": [
    "def accepts_strings(aword):\n",
    "    if aword[0] in list_vowels:\n",
    "        return aword[0].lower() + aword[1:]\n",
    "    else:\n",
    "        return aword[0].upper() + aword[1:]"
   ]
  },
  {
   "cell_type": "code",
   "execution_count": 269,
   "id": "750197de",
   "metadata": {},
   "outputs": [
    {
     "data": {
      "text/plain": [
       "'apple'"
      ]
     },
     "execution_count": 269,
     "metadata": {},
     "output_type": "execute_result"
    }
   ],
   "source": [
    "accepts_strings('apple')"
   ]
  },
  {
   "cell_type": "code",
   "execution_count": 270,
   "id": "8ed50b2f",
   "metadata": {},
   "outputs": [
    {
     "data": {
      "text/plain": [
       "'Carlo'"
      ]
     },
     "execution_count": 270,
     "metadata": {},
     "output_type": "execute_result"
    }
   ],
   "source": [
    "accepts_strings('carlo')"
   ]
  },
  {
   "cell_type": "markdown",
   "id": "5b59f832",
   "metadata": {},
   "source": [
    "### 5. Define a function named calculate_tip. It should accept a tip percentage (a number between 0 and 1) and the bill total, and return the amount to tip."
   ]
  },
  {
   "cell_type": "code",
   "execution_count": 347,
   "id": "7b484345",
   "metadata": {},
   "outputs": [
    {
     "name": "stdout",
     "output_type": "stream",
     "text": [
      "How much did it cost?: 100\n",
      "What percent tip do you want? 10/15/20:20\n"
     ]
    },
    {
     "data": {
      "text/plain": [
       "20.0"
      ]
     },
     "execution_count": 347,
     "metadata": {},
     "output_type": "execute_result"
    }
   ],
   "source": [
    "def calculate_tip():\n",
    "    bill = int(input('How much did it cost?: '))\n",
    "    tip_percent = int(input('What percent tip do you want? 10/15/20:'))\n",
    "    total_tip = bill * (tip_percent/100)\n",
    "    return total_tip\n",
    "\n",
    "calculate_tip()"
   ]
  },
  {
   "cell_type": "markdown",
   "id": "adb15e5a",
   "metadata": {},
   "source": [
    "#### 6. Define a function named apply_discount. It should accept a original price, and a discount percentage, and return the price after the discount is applied."
   ]
  },
  {
   "cell_type": "code",
   "execution_count": 206,
   "id": "4937a2de",
   "metadata": {},
   "outputs": [],
   "source": [
    "def apply_discount():\n",
    "    original_price = int(input('How much did it cost?: '))\n",
    "    discount = int(input('What percentage is the discount?: '))\n",
    "    discount_total = original_price * (discount/100)\n",
    "    total = original_price - discount_total\n",
    "    return total"
   ]
  },
  {
   "cell_type": "code",
   "execution_count": 207,
   "id": "12d597dd",
   "metadata": {},
   "outputs": [
    {
     "name": "stdout",
     "output_type": "stream",
     "text": [
      "How much did it cost?: 100\n",
      "What percentage is the discount?: 20\n"
     ]
    },
    {
     "data": {
      "text/plain": [
       "80.0"
      ]
     },
     "execution_count": 207,
     "metadata": {},
     "output_type": "execute_result"
    }
   ],
   "source": [
    "apply_discount()"
   ]
  },
  {
   "cell_type": "code",
   "execution_count": 348,
   "id": "266cbd68",
   "metadata": {},
   "outputs": [],
   "source": [
    "# Class Review Solution\n",
    "def apply_discount(price, disc_perc):\n",
    "    discount = price * disc_perc\n",
    "    return price - discount"
   ]
  },
  {
   "cell_type": "markdown",
   "id": "e8e8872b",
   "metadata": {},
   "source": [
    "#### 7. Define a function named handle_commas. It should accept a string that is a number that contains commas in it as input, and return a number as output."
   ]
  },
  {
   "cell_type": "code",
   "execution_count": 214,
   "id": "63302d6d",
   "metadata": {},
   "outputs": [],
   "source": [
    "def handle_commas():\n",
    "    the_string = input('What is your number:')\n",
    "    conversion = int(the_string.replace(',',''))\n",
    "    return conversion\n",
    "    "
   ]
  },
  {
   "cell_type": "code",
   "execution_count": 215,
   "id": "91752519",
   "metadata": {},
   "outputs": [
    {
     "name": "stdout",
     "output_type": "stream",
     "text": [
      "What is your number:2,000\n"
     ]
    },
    {
     "data": {
      "text/plain": [
       "2000"
      ]
     },
     "execution_count": 215,
     "metadata": {},
     "output_type": "execute_result"
    }
   ],
   "source": [
    "handle_commas()"
   ]
  },
  {
   "cell_type": "markdown",
   "id": "5e0133f5",
   "metadata": {},
   "source": [
    "#### 8. Define a function named get_letter_grade. It should accept a number and return the letter grade associated with that number (A-F)."
   ]
  },
  {
   "cell_type": "code",
   "execution_count": 220,
   "id": "100a3c63",
   "metadata": {},
   "outputs": [],
   "source": [
    "def get_letter_grade():\n",
    "    grade_percentage = int(input('What was your score?:'))\n",
    "    \n",
    "    if 90 <= grade_percentage <= 100:\n",
    "        return \"A\"\n",
    "    elif 80 <= grade_percentage <= 89:\n",
    "        return \"B\"\n",
    "    elif 70 <=  grade_percentage <= 79:\n",
    "        return \"C\"\n",
    "    elif 60 <= grade_percentage <= 69:\n",
    "        return \"D\"\n",
    "    else:\n",
    "        return \"F\""
   ]
  },
  {
   "cell_type": "code",
   "execution_count": 221,
   "id": "ae4d01d1",
   "metadata": {},
   "outputs": [
    {
     "name": "stdout",
     "output_type": "stream",
     "text": [
      "What was your score?:40\n"
     ]
    },
    {
     "data": {
      "text/plain": [
       "'F'"
      ]
     },
     "execution_count": 221,
     "metadata": {},
     "output_type": "execute_result"
    }
   ],
   "source": [
    "get_letter_grade()"
   ]
  },
  {
   "cell_type": "code",
   "execution_count": 349,
   "id": "1ee95938",
   "metadata": {},
   "outputs": [
    {
     "name": "stdout",
     "output_type": "stream",
     "text": [
      "What was your score?:70\n"
     ]
    },
    {
     "data": {
      "text/plain": [
       "'C'"
      ]
     },
     "execution_count": 349,
     "metadata": {},
     "output_type": "execute_result"
    }
   ],
   "source": [
    "get_letter_grade()"
   ]
  },
  {
   "cell_type": "markdown",
   "id": "cb7e2318",
   "metadata": {},
   "source": [
    "##### 9. Define a function named remove_vowels that accepts a string and returns a string with all the vowels removed."
   ]
  },
  {
   "cell_type": "code",
   "execution_count": 311,
   "id": "4550e9b4",
   "metadata": {},
   "outputs": [],
   "source": [
    "def remove_vowels():\n",
    "    list_vowels = ['a','e','i','o','u','A','I','O','E','U']\n",
    "    the_string = input('What words?: ')\n",
    "    smash_word = ''\n",
    "    for vowels in the_string:\n",
    "        if vowels not in list_vowels:\n",
    "            smash_word = smash_word + vowels\n",
    "    return smash_word\n",
    "            \n",
    "           \n",
    "    "
   ]
  },
  {
   "cell_type": "code",
   "execution_count": 312,
   "id": "08773317",
   "metadata": {},
   "outputs": [
    {
     "name": "stdout",
     "output_type": "stream",
     "text": [
      "What words?: test string\n"
     ]
    },
    {
     "data": {
      "text/plain": [
       "'tst strng'"
      ]
     },
     "execution_count": 312,
     "metadata": {},
     "output_type": "execute_result"
    }
   ],
   "source": [
    "remove_vowels()"
   ]
  },
  {
   "cell_type": "code",
   "execution_count": 316,
   "id": "d0179343",
   "metadata": {},
   "outputs": [],
   "source": [
    "def remove_vowels_append():\n",
    "    list_vowels = ['a','e','i','o','u','A','I','O','E','U']\n",
    "    the_string = input('What words?: ')\n",
    "    smash_word = []\n",
    "    for vowels in the_string:\n",
    "        if vowels not in list_vowels:\n",
    "            smash_word.append(vowels)\n",
    "    return ''.join(smash_word)"
   ]
  },
  {
   "cell_type": "code",
   "execution_count": 317,
   "id": "47113be3",
   "metadata": {},
   "outputs": [
    {
     "name": "stdout",
     "output_type": "stream",
     "text": [
      "What words?: test string\n"
     ]
    },
    {
     "data": {
      "text/plain": [
       "'tst strng'"
      ]
     },
     "execution_count": 317,
     "metadata": {},
     "output_type": "execute_result"
    }
   ],
   "source": [
    "remove_vowels_append()"
   ]
  },
  {
   "cell_type": "markdown",
   "id": "9a2570bb",
   "metadata": {},
   "source": [
    "#### 10. Define a function named normalize_name. It should accept a string and return a valid python identifier, that is:"
   ]
  },
  {
   "cell_type": "code",
   "execution_count": 243,
   "id": "1f261fce",
   "metadata": {},
   "outputs": [],
   "source": [
    "def normalize_name():\n",
    "    name = input(\"what is your name?: \")\n",
    "    updated_name = name.lower().strip().replace(' ', '_')\n",
    "    return updated_name"
   ]
  },
  {
   "cell_type": "code",
   "execution_count": 244,
   "id": "1ebb9fc2",
   "metadata": {},
   "outputs": [
    {
     "name": "stdout",
     "output_type": "stream",
     "text": [
      "what is your name?: Carlo De Leon\n"
     ]
    },
    {
     "data": {
      "text/plain": [
       "'carlo_de_leon'"
      ]
     },
     "execution_count": 244,
     "metadata": {},
     "output_type": "execute_result"
    }
   ],
   "source": [
    "normalize_name()"
   ]
  },
  {
   "cell_type": "markdown",
   "id": "11cea0f3",
   "metadata": {},
   "source": [
    "#### 11. Write a function named cumulative_sum that accepts a list of numbers and returns a list that is the cumulative sum of the numbers in the list."
   ]
  },
  {
   "cell_type": "code",
   "execution_count": 337,
   "id": "97fa6d33",
   "metadata": {},
   "outputs": [],
   "source": [
    "import numpy as np\n",
    "\n",
    "        "
   ]
  },
  {
   "cell_type": "code",
   "execution_count": 350,
   "id": "8a94ab02",
   "metadata": {},
   "outputs": [],
   "source": [
    "def cumulative_sum():\n",
    "    number_list = int(input('What numbers?: '))\n",
    "    adding_list = []\n",
    "    for number in number_list:\n",
    "        adding_list.append(number)\n",
    "    return np.cumsum(adding_list)\n",
    "    "
   ]
  },
  {
   "cell_type": "code",
   "execution_count": 351,
   "id": "68e094d0",
   "metadata": {},
   "outputs": [
    {
     "name": "stdout",
     "output_type": "stream",
     "text": [
      "What numbers?: 5, 5, 5\n"
     ]
    },
    {
     "ename": "ValueError",
     "evalue": "invalid literal for int() with base 10: '5, 5, 5'",
     "output_type": "error",
     "traceback": [
      "\u001b[0;31m---------------------------------------------------------------------------\u001b[0m",
      "\u001b[0;31mValueError\u001b[0m                                Traceback (most recent call last)",
      "Input \u001b[0;32mIn [351]\u001b[0m, in \u001b[0;36m<cell line: 1>\u001b[0;34m()\u001b[0m\n\u001b[0;32m----> 1\u001b[0m \u001b[43mcumulative_sum\u001b[49m\u001b[43m(\u001b[49m\u001b[43m)\u001b[49m\n",
      "Input \u001b[0;32mIn [350]\u001b[0m, in \u001b[0;36mcumulative_sum\u001b[0;34m()\u001b[0m\n\u001b[1;32m      1\u001b[0m \u001b[38;5;28;01mdef\u001b[39;00m \u001b[38;5;21mcumulative_sum\u001b[39m():\n\u001b[0;32m----> 2\u001b[0m     number_list \u001b[38;5;241m=\u001b[39m \u001b[38;5;28;43mint\u001b[39;49m\u001b[43m(\u001b[49m\u001b[38;5;28;43minput\u001b[39;49m\u001b[43m(\u001b[49m\u001b[38;5;124;43m'\u001b[39;49m\u001b[38;5;124;43mWhat numbers?: \u001b[39;49m\u001b[38;5;124;43m'\u001b[39;49m\u001b[43m)\u001b[49m\u001b[43m)\u001b[49m\n\u001b[1;32m      3\u001b[0m     adding_list \u001b[38;5;241m=\u001b[39m []\n\u001b[1;32m      4\u001b[0m     \u001b[38;5;28;01mfor\u001b[39;00m number \u001b[38;5;129;01min\u001b[39;00m number_list:\n",
      "\u001b[0;31mValueError\u001b[0m: invalid literal for int() with base 10: '5, 5, 5'"
     ]
    }
   ],
   "source": [
    "cumulative_sum()"
   ]
  },
  {
   "cell_type": "code",
   "execution_count": 358,
   "id": "07f71881",
   "metadata": {},
   "outputs": [],
   "source": [
    "# Class Review Solution\n",
    "def cumulative_sum(numbers):\n",
    "    output = []\n",
    "    total = 0\n",
    "    for num in numbers:\n",
    "        total += num\n",
    "        output.append(total)\n",
    "    return output"
   ]
  },
  {
   "cell_type": "code",
   "execution_count": 359,
   "id": "6eac2a8d",
   "metadata": {},
   "outputs": [
    {
     "data": {
      "text/plain": [
       "[5, 10, 15]"
      ]
     },
     "execution_count": 359,
     "metadata": {},
     "output_type": "execute_result"
    }
   ],
   "source": [
    "cumulative_sum([5,5,5])"
   ]
  },
  {
   "cell_type": "code",
   "execution_count": null,
   "id": "fa98cf14",
   "metadata": {},
   "outputs": [],
   "source": []
  }
 ],
 "metadata": {
  "kernelspec": {
   "display_name": "Python 3 (ipykernel)",
   "language": "python",
   "name": "python3"
  },
  "language_info": {
   "codemirror_mode": {
    "name": "ipython",
    "version": 3
   },
   "file_extension": ".py",
   "mimetype": "text/x-python",
   "name": "python",
   "nbconvert_exporter": "python",
   "pygments_lexer": "ipython3",
   "version": "3.9.13"
  }
 },
 "nbformat": 4,
 "nbformat_minor": 5
}
