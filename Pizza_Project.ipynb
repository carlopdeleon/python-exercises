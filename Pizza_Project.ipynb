{
 "cells": [
  {
   "cell_type": "code",
   "execution_count": null,
   "id": "8553cd19",
   "metadata": {},
   "outputs": [],
   "source": [
    "def pizza_order():\n",
    "    prices = [8.99, 12.99, 17.99]\n",
    "    small = prices[0]\n",
    "    medium = prices[1]\n",
    "    large = prices[-1]\n",
    "    pizza = input('Enter your pizza size: ')\n",
    "    if pizza == 's':\n",
    "        return small\n",
    "    elif pizza == 'm':\n",
    "        return medium\n",
    "    elif pizza == '1':\n",
    "        return large\n",
    "pizza_order()"
   ]
  },
  {
   "cell_type": "code",
   "execution_count": 61,
   "id": "5597c2cf",
   "metadata": {},
   "outputs": [],
   "source": [
    "small_pizza = 8.99\n",
    "medium_piza = 12.99\n",
    "large_pizza = 17.99\n",
    "list_of_toppings = ['extra chees', 'mushrooms', 'bell peppers', 'red onions', 'italian sausage','pepperoni', 'olives']\n",
    "\n",
    "\n",
    "\n",
    "       \n",
    "def pizza_price_plus_topping_price():\n",
    "    which_toppings = input('What toppings would you like?: ')\n",
    "    pizza_size_price = 12.99\n",
    "    for topping in list_of_toppings:\n",
    "        #Splitting customer's toppings into seperate values and measuring its length of values\n",
    "        if len(which_toppings.split()) >= 3:  \n",
    "            return pizza_size_price + 4\n",
    "        # Then adding pizza price to topping price\n",
    "        elif len(which_toppings.split()) == 2:\n",
    "              return pizza_size_price + 3\n",
    "       \n",
    "        elif len(which_toppings.split()) == 1:\n",
    "            return pizza_size_price + 1.5\n",
    "        \n",
    "        else:\n",
    "            return pizza_size_price\n",
    "    \n",
    "    \n"
   ]
  },
  {
   "cell_type": "code",
   "execution_count": 62,
   "id": "6be2106e",
   "metadata": {
    "scrolled": true
   },
   "outputs": [
    {
     "name": "stdout",
     "output_type": "stream",
     "text": [
      "What toppings would you like?: pep, olives\n"
     ]
    },
    {
     "data": {
      "text/plain": [
       "15.99"
      ]
     },
     "execution_count": 62,
     "metadata": {},
     "output_type": "execute_result"
    }
   ],
   "source": [
    "pizza_price_plus_topping_price()"
   ]
  },
  {
   "cell_type": "markdown",
   "id": "15a7363a",
   "metadata": {},
   "source": [
    "# MVP"
   ]
  },
  {
   "cell_type": "code",
   "execution_count": 79,
   "id": "da9ae028",
   "metadata": {
    "scrolled": true
   },
   "outputs": [
    {
     "name": "stdout",
     "output_type": "stream",
     "text": [
      "Enter your pizza size: s\n",
      "What toppings would you like?: pep, much\n"
     ]
    },
    {
     "data": {
      "text/plain": [
       "11.99"
      ]
     },
     "execution_count": 79,
     "metadata": {},
     "output_type": "execute_result"
    }
   ],
   "source": [
    "def pizza_order():\n",
    "    prices = [8.99, 12.99, 17.99]\n",
    "    small = prices[0]\n",
    "    medium = prices[1]\n",
    "    large = prices[-1]\n",
    "    pizza = input('Enter your pizza size: ')\n",
    "    if pizza == 's':\n",
    "        return small\n",
    "    elif pizza == 'm':\n",
    "        return medium\n",
    "    elif pizza == 'l':\n",
    "        return large\n",
    "list_of_toppings = ['extra cheese', 'mushrooms', 'bell peppers', 'red onions', 'italian sausage','pepperoni', 'olives']\n",
    "def pizza_price_plus_topping_price():\n",
    "    pizza_size_price = pizza_order() \n",
    "    which_toppings = input('What toppings would you like?: ').lower()\n",
    "     # replace 12.99 with your function here (replaced)\n",
    "    for topping in list_of_toppings:\n",
    "        #Splitting customer's toppings into separate values and measuring its length of values\n",
    "        if len(which_toppings.split()) >= 3:\n",
    "            return pizza_size_price + 4\n",
    "        # Then adding pizza price to topping price\n",
    "        elif len(which_toppings.split()) == 2:\n",
    "              return pizza_size_price + 3\n",
    "        elif len(which_toppings.split()) == 1:\n",
    "            return pizza_size_price + 1.5\n",
    "        else:\n",
    "            return pizza_size_price\n",
    "                 \n",
    "pizza_price_plus_topping_price()\n",
    "\n"
   ]
  },
  {
   "cell_type": "code",
   "execution_count": null,
   "id": "1e512947",
   "metadata": {},
   "outputs": [],
   "source": [
    "#function for delivery name/address\n",
    "def customer_info():\n",
    "    '''Name for the order'''\n",
    "    name = input('Name: ')\n",
    "    '''Address to deliver to'''\n",
    "    address = input('Address: ')\n",
    "    print(name.title()), print(address.title())\n",
    "#function for what type of order. This will run first and send it to the \"customer_info\" function if delivery\n",
    "def order_type():\n",
    "    user_input = input('Delivery, Dine in, or Pick-up: ')\n",
    "    if user_input.lower() == 'delivery':\n",
    "        customer_info()\n",
    "    elif user_input.lower() == 'dine in':\n",
    "        '''Name for the dine in order'''\n",
    "        name = input('Name: ')\n",
    "        print(f'{name.title()}\\'s pizza for dine in!')\n",
    "    elif user_input.lower() == 'pick-up':\n",
    "        '''Name for the pick-up order'''\n",
    "        name = input('Name: ')\n",
    "        print(f'{name.title()}\\'s pizza for pick-up!')\n",
    "    else:\n",
    "        print('Not valid order type!')\n",
    "        order_type()\n",
    "order_type()"
   ]
  },
  {
   "cell_type": "code",
   "execution_count": null,
   "id": "48fe1767",
   "metadata": {},
   "outputs": [],
   "source": [
    "def get_payment_selection():\n",
    "    payment_option = int(input('Please select 1 = credit card, 2 = cash, 3 = check '))\n",
    "    if payment_option == 1:\n",
    "        print('please input credit card number')\n",
    "    elif payment_option == 2:\n",
    "        print('please pay at the store, no bills over $50 accepted')\n",
    "    elif payment_option == 3:\n",
    "        print('present second id and no orders under $20 accepted when paying by check')\n",
    "    else:\n",
    "        print('please enter a selection from 1-3')\n",
    "get_payment_selection()"
   ]
  }
 ],
 "metadata": {
  "kernelspec": {
   "display_name": "Python 3 (ipykernel)",
   "language": "python",
   "name": "python3"
  },
  "language_info": {
   "codemirror_mode": {
    "name": "ipython",
    "version": 3
   },
   "file_extension": ".py",
   "mimetype": "text/x-python",
   "name": "python",
   "nbconvert_exporter": "python",
   "pygments_lexer": "ipython3",
   "version": "3.9.13"
  }
 },
 "nbformat": 4,
 "nbformat_minor": 5
}
