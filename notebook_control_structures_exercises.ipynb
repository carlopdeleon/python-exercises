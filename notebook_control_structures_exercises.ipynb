{
 "cells": [
  {
   "cell_type": "markdown",
   "id": "5309a499",
   "metadata": {},
   "source": [
    "# Control Structure Exercises"
   ]
  },
  {
   "cell_type": "markdown",
   "id": "b0edc46f",
   "metadata": {},
   "source": [
    "#### 1a. prompt the user for a day of the week, print out whether the day is Monday or not"
   ]
  },
  {
   "cell_type": "code",
   "execution_count": 1,
   "id": "9d7cae2f",
   "metadata": {},
   "outputs": [],
   "source": [
    "day_of_the_week = \"thursday\""
   ]
  },
  {
   "cell_type": "code",
   "execution_count": 2,
   "id": "631aeb02",
   "metadata": {},
   "outputs": [
    {
     "name": "stdout",
     "output_type": "stream",
     "text": [
      "true\n"
     ]
    }
   ],
   "source": [
    "if day_of_the_week == \"thursday\":\n",
    "    print(\"true\")\n",
    "else:\n",
    "    print(\"false\")"
   ]
  },
  {
   "cell_type": "code",
   "execution_count": 6,
   "id": "761ad19b",
   "metadata": {},
   "outputs": [
    {
     "name": "stdout",
     "output_type": "stream",
     "text": [
      "Enter day of the week: saturday\n",
      "Weekend\n"
     ]
    }
   ],
   "source": [
    "# Class Review Solution\n",
    "\n",
    "day_of_the_week = input('Enter day of the week: ')\n",
    "if day_of_the_week.strip().lower() in ['saturday','sunday']:\n",
    "    print('Weekend')\n",
    "else:\n",
    "    print('Weekday')    "
   ]
  },
  {
   "cell_type": "markdown",
   "id": "c53e6a13",
   "metadata": {},
   "source": [
    "#### 1b. prompt the user for a day of the week, print out whether the day is a weekday or a weekend"
   ]
  },
  {
   "cell_type": "code",
   "execution_count": 7,
   "id": "f1c447b0",
   "metadata": {},
   "outputs": [],
   "source": [
    "weekdays = ['monday','tuesday','wednesday','thursday','thursday']\n",
    "weekend = ['saturday','sunday']"
   ]
  },
  {
   "cell_type": "code",
   "execution_count": 8,
   "id": "2cff0ac3",
   "metadata": {},
   "outputs": [
    {
     "name": "stdout",
     "output_type": "stream",
     "text": [
      "Keep waiting\n"
     ]
    }
   ],
   "source": [
    "if day_of_the_week in weekdays:\n",
    "    print(\"Its a weekday\")\n",
    "else:\n",
    "    print(\"Keep waiting\")"
   ]
  },
  {
   "cell_type": "markdown",
   "id": "b4a49b60",
   "metadata": {},
   "source": [
    "#### 1c. create variables and make up values for:\n",
    "####       A. number of hours worked in one week\n",
    "####       B.the hourly rate  \n",
    "####       C.how much the week's paycheck will be. \n",
    "#### WRITE THE PYTHON CODE THAT CALCULATES THE WEEKLY PAYCHECK. YOU GET PAID 1.5X IF YOU WORK MORE THAN 40HRS."
   ]
  },
  {
   "cell_type": "code",
   "execution_count": 9,
   "id": "7920c83f",
   "metadata": {},
   "outputs": [],
   "source": [
    "hrs_worked = 45\n",
    "wage = 40\n",
    "weekly_income = hrs_worked * wage\n",
    "overtime = (hrs_worked - 40) * (wage * 1.5)"
   ]
  },
  {
   "cell_type": "code",
   "execution_count": 10,
   "id": "8fb43a74",
   "metadata": {},
   "outputs": [
    {
     "name": "stdout",
     "output_type": "stream",
     "text": [
      "2100.0\n"
     ]
    }
   ],
   "source": [
    "if hrs_worked <= 40:\n",
    "    income = hrs_worked * wage\n",
    "    print(hrs_worked)\n",
    "else:\n",
    "    big_money = (hrs_worked * wage) + overtime\n",
    "    print(big_money)\n",
    "    "
   ]
  },
  {
   "cell_type": "code",
   "execution_count": 11,
   "id": "b476934f",
   "metadata": {},
   "outputs": [
    {
     "name": "stdout",
     "output_type": "stream",
     "text": [
      "1600\n"
     ]
    }
   ],
   "source": [
    "full_time_pay = wage * 40\n",
    "print(full_time_pay)"
   ]
  },
  {
   "cell_type": "markdown",
   "id": "2c7049cc",
   "metadata": {},
   "source": [
    "#### 2. Loop Basics\n",
    "#### A. While\n",
    "##### - Create an integer variable ' i ' with a value of 5.\n",
    "##### - Create a while loop that runs so long as i is less than or equal to 15\n",
    "##### - Each loop iteration, output the current value of i, then increment i by one."
   ]
  },
  {
   "cell_type": "code",
   "execution_count": 12,
   "id": "358cd8ad",
   "metadata": {},
   "outputs": [
    {
     "name": "stdout",
     "output_type": "stream",
     "text": [
      "5\n",
      "6\n",
      "7\n",
      "8\n",
      "9\n",
      "10\n",
      "11\n",
      "12\n",
      "13\n",
      "14\n",
      "15\n"
     ]
    }
   ],
   "source": [
    "i = 5\n",
    "while i <= 15:\n",
    "    print(i)\n",
    "    i += 1\n",
    "    "
   ]
  },
  {
   "cell_type": "code",
   "execution_count": 13,
   "id": "6808f27f",
   "metadata": {},
   "outputs": [
    {
     "name": "stdout",
     "output_type": "stream",
     "text": [
      "100\n",
      "95\n",
      "90\n",
      "85\n",
      "80\n",
      "75\n",
      "70\n",
      "65\n",
      "60\n",
      "55\n",
      "50\n",
      "45\n",
      "40\n",
      "35\n",
      "30\n",
      "25\n",
      "20\n",
      "15\n",
      "10\n",
      "5\n",
      "0\n",
      "-5\n",
      "-10\n"
     ]
    }
   ],
   "source": [
    "# Class Review Solution\n",
    "i = 100 \n",
    "while i >= -10:\n",
    "    print(i)\n",
    "    i = i -5"
   ]
  },
  {
   "cell_type": "code",
   "execution_count": 14,
   "id": "86391a26",
   "metadata": {},
   "outputs": [
    {
     "name": "stdout",
     "output_type": "stream",
     "text": [
      "What number?: 6\n"
     ]
    }
   ],
   "source": [
    "pick_number = int(input(\"What number?: \"))\n",
    "\n",
    "def multiplication(multiply):\n",
    "    for number in range(pick_number):\n",
    "        print(num)"
   ]
  },
  {
   "cell_type": "code",
   "execution_count": 15,
   "id": "18d2b14e",
   "metadata": {},
   "outputs": [
    {
     "name": "stdout",
     "output_type": "stream",
     "text": [
      "Input your number: 7\n",
      "7 x 1 == 7\n",
      "7 x 2 == 14\n",
      "7 x 3 == 21\n",
      "7 x 4 == 28\n",
      "7 x 5 == 35\n",
      "7 x 6 == 42\n",
      "7 x 7 == 49\n",
      "7 x 8 == 56\n",
      "7 x 9 == 63\n",
      "7 x 10 == 70\n"
     ]
    }
   ],
   "source": [
    "# Class Review Solution\n",
    "your_num = int(input('Input your number: '))\n",
    "\n",
    "for i in range(1, 11):\n",
    "    print(f'{your_num} x {i} == {your_num * i}')"
   ]
  },
  {
   "cell_type": "code",
   "execution_count": 16,
   "id": "134d14dc",
   "metadata": {},
   "outputs": [
    {
     "name": "stdout",
     "output_type": "stream",
     "text": [
      "1\n",
      "22\n",
      "333\n",
      "4444\n",
      "55555\n",
      "666666\n",
      "7777777\n",
      "88888888\n",
      "999999999\n"
     ]
    }
   ],
   "source": [
    "# Class Review solution\n",
    "for i in range(1,10):\n",
    "    print(i * str(i))"
   ]
  },
  {
   "cell_type": "code",
   "execution_count": 17,
   "id": "6ba2d447",
   "metadata": {},
   "outputs": [
    {
     "name": "stdout",
     "output_type": "stream",
     "text": [
      "Input your number here: 4\n",
      "Invalid input. Try harder.\n",
      "Input your number here: 2\n",
      "Invalid input. Try harder.\n",
      "Input your number here: 9\n",
      "1\n",
      "3\n",
      "5\n",
      "7\n",
      "11\n",
      "13\n",
      "15\n",
      "17\n",
      "19\n",
      "21\n",
      "23\n",
      "25\n",
      "27\n",
      "29\n",
      "31\n",
      "33\n",
      "35\n",
      "37\n",
      "39\n",
      "41\n",
      "43\n",
      "45\n",
      "47\n",
      "49\n"
     ]
    }
   ],
   "source": [
    "# Class Review Solution\n",
    "\n",
    "while True:\n",
    "    your_num = input('Input your number here: ')\n",
    "    if your_num.isdigit() and int(your_num) % 2 == 1 and 0 < int(your_num) < 50:\n",
    "        break\n",
    "    else:\n",
    "        print('Invalid input. Try harder.')\n",
    "\n",
    "counter = 1\n",
    "\n",
    "while counter < 50:\n",
    "    if counter == int(your_num):\n",
    "        counter += 2\n",
    "    else:\n",
    "        print(counter)\n",
    "        counter += 2"
   ]
  },
  {
   "cell_type": "markdown",
   "id": "45001e4f",
   "metadata": {},
   "source": [
    "#### 3. Fizzbuzz\n",
    "#### One of the most common interview questions for entry-level programmers is the FizzBuzz test. Developed by Imran Ghory, the test is designed to test basic looping and conditional logic skills.\n",
    "##### - Write a program that prints the numbers from 1 to 100.\n",
    "##### - For multiples of three print \"Fizz\" instead of the number\n",
    "##### - For the multiples of five print \"Buzz\".\n",
    "##### - For numbers which are multiples of both three and five print \"FizzBuzz\"."
   ]
  },
  {
   "cell_type": "code",
   "execution_count": 18,
   "id": "c38e8e71",
   "metadata": {},
   "outputs": [
    {
     "name": "stdout",
     "output_type": "stream",
     "text": [
      "51\n",
      "Fizz\n",
      "53\n",
      "buzz\n",
      "Fizz\n",
      "56\n",
      "57\n",
      "Fizz\n",
      "buzz\n",
      "60\n",
      "Fizz\n",
      "62\n",
      "63\n",
      "fizzbuzz\n",
      "65\n",
      "66\n",
      "Fizz\n",
      "68\n",
      "buzz\n",
      "Fizz\n",
      "71\n",
      "72\n",
      "Fizz\n",
      "buzz\n",
      "75\n",
      "Fizz\n",
      "77\n",
      "78\n",
      "fizzbuzz\n",
      "80\n",
      "81\n",
      "Fizz\n",
      "83\n",
      "buzz\n",
      "Fizz\n",
      "86\n",
      "87\n",
      "Fizz\n",
      "buzz\n",
      "90\n",
      "Fizz\n",
      "92\n",
      "93\n",
      "fizzbuzz\n",
      "95\n",
      "96\n",
      "Fizz\n",
      "98\n",
      "buzz\n",
      "Fizz\n",
      "101\n",
      "102\n",
      "Fizz\n",
      "buzz\n",
      "105\n",
      "Fizz\n",
      "107\n",
      "108\n",
      "fizzbuzz\n",
      "110\n",
      "111\n",
      "Fizz\n",
      "113\n",
      "buzz\n",
      "Fizz\n",
      "116\n",
      "117\n",
      "Fizz\n",
      "buzz\n",
      "120\n",
      "Fizz\n",
      "122\n",
      "123\n",
      "fizzbuzz\n",
      "125\n",
      "126\n",
      "Fizz\n",
      "128\n",
      "buzz\n",
      "Fizz\n",
      "131\n",
      "132\n",
      "Fizz\n",
      "buzz\n",
      "135\n",
      "Fizz\n",
      "137\n",
      "138\n",
      "fizzbuzz\n",
      "140\n",
      "141\n",
      "Fizz\n",
      "143\n",
      "buzz\n",
      "Fizz\n",
      "146\n",
      "147\n",
      "Fizz\n",
      "buzz\n"
     ]
    }
   ],
   "source": [
    "for number in range(2,101):\n",
    "    if number % 15 == 0:\n",
    "        print('fizzbuzz')\n",
    "    elif number % 3 == 0:\n",
    "        print('Fizz')\n",
    "    elif number % 5 == 0:\n",
    "        print('buzz')\n",
    "    else:\n",
    "        print(counter)\n",
    "    counter += 1\n",
    "    \n",
    "        "
   ]
  },
  {
   "cell_type": "markdown",
   "id": "ca462132",
   "metadata": {},
   "source": [
    "#### 4. Display a table of powers.\n",
    "##### - Prompt the user to enter an integer.\n",
    "##### - Display a table of squares and cubes from 1 to the value entered.\n",
    "##### - Ask if the user wants to continue.\n",
    "##### - Assume that the user will enter valid data.\n",
    "##### - Only continue if the user agrees to."
   ]
  },
  {
   "cell_type": "code",
   "execution_count": null,
   "id": "4ec9e077",
   "metadata": {
    "scrolled": true
   },
   "outputs": [],
   "source": [
    "start = int(input(\"Choose number:\\t\"))\n",
    "keep_going = input(\"Do you want to continue[Y/N]:\\t\")\n",
    "print()\n",
    "\n",
    "def table_of_powers(start):\n",
    "    for number in range(start):\n",
    "        if keep_going.lower() == 'n':\n",
    "            break\n",
    "        else:\n",
    "            print(number, number ** 2, number **3)\n",
    "        \n",
    "\n",
    "table_of_powers(start)"
   ]
  },
  {
   "cell_type": "code",
   "execution_count": null,
   "id": "f1068948",
   "metadata": {},
   "outputs": [],
   "source": [
    "# Class Review Solution\n",
    "your_num = int(input('Input your number here: '))\n",
    "counter = 1"
   ]
  },
  {
   "cell_type": "markdown",
   "id": "107aa0c7",
   "metadata": {},
   "source": [
    "##### 5. Convert given number grades into letter grades."
   ]
  },
  {
   "cell_type": "code",
   "execution_count": null,
   "id": "0e125afd",
   "metadata": {},
   "outputs": [],
   "source": [
    "score = int(input('What is your grade percentage?: '))\n",
    "more_grades = input('Do you want to continue? [Y/N]')\n",
    "\n",
    "\n",
    "def passfail(score):\n",
    "    while True:\n",
    "        if score >= 88:\n",
    "            print('A')\n",
    "        elif score >= 80:\n",
    "            print('B')\n",
    "        elif score >= 67:\n",
    "            print('C')\n",
    "        elif score >= 60:\n",
    "            print('D')\n",
    "        else:\n",
    "            print('F')\n",
    "        if more_grades.lower() == 'n':\n",
    "            break\n",
    "    \n",
    "passfail(score)"
   ]
  },
  {
   "cell_type": "markdown",
   "id": "04b5d59f",
   "metadata": {},
   "source": [
    "#### 6. Create a list of dictionaries where each dictionary represents a book that you have read. Each dictionary in the list should have the keys title, author, and genre. Loop through the list and print out information about each book.\n",
    "##### -a. Prompt the user to enter a genre, then loop through your books list and print out the titles of all the books in that genre."
   ]
  },
  {
   "cell_type": "code",
   "execution_count": 19,
   "id": "bac9f6b4",
   "metadata": {},
   "outputs": [
    {
     "name": "stdout",
     "output_type": "stream",
     "text": [
      "Choose genre:\tscify\n",
      "['To Sleep in a Sea of Stars', 'Project Hail Mary']\n"
     ]
    }
   ],
   "source": [
    "my_dictionary = [{'title': '1984', 'author': 'George Orwell', 'genre': 'dystopian'},\n",
    "                {'title': 'Tuesdays with Morrie', 'author': 'Mitch Albom', 'genre': 'life lessons'},\n",
    "                {'title': 'To Sleep in a Sea of Stars', 'author': 'Chirstopher Paolini', 'genre': 'scify'},\n",
    "                {'title': 'Project Hail Mary', 'author': 'Andy Weir', 'genre': 'scify'}]\n",
    "search_genre = input('Choose genre:\\t')\n",
    "\n",
    "\n",
    "def genre(my_dictionary):\n",
    "    empty_list = []\n",
    "    for gtype in my_dictionary:\n",
    "        if gtype['genre'] == search_genre:\n",
    "            empty_list.append(gtype[\"title\"])\n",
    "    print(empty_list)\n",
    "        \n",
    "genre(my_dictionary)"
   ]
  },
  {
   "cell_type": "code",
   "execution_count": null,
   "id": "ab2fdc04",
   "metadata": {},
   "outputs": [],
   "source": []
  }
 ],
 "metadata": {
  "kernelspec": {
   "display_name": "Python 3 (ipykernel)",
   "language": "python",
   "name": "python3"
  },
  "language_info": {
   "codemirror_mode": {
    "name": "ipython",
    "version": 3
   },
   "file_extension": ".py",
   "mimetype": "text/x-python",
   "name": "python",
   "nbconvert_exporter": "python",
   "pygments_lexer": "ipython3",
   "version": "3.9.13"
  }
 },
 "nbformat": 4,
 "nbformat_minor": 5
}
