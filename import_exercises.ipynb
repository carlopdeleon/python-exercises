{
 "cells": [
  {
   "cell_type": "code",
   "execution_count": 4,
   "id": "02ea5c65",
   "metadata": {},
   "outputs": [],
   "source": [
    "import function_exercises as fe"
   ]
  },
  {
   "cell_type": "markdown",
   "id": "db3d7d14",
   "metadata": {},
   "source": [
    "### 1a."
   ]
  },
  {
   "cell_type": "code",
   "execution_count": 6,
   "id": "b2ab662e",
   "metadata": {},
   "outputs": [
    {
     "data": {
      "text/plain": [
       "True"
      ]
     },
     "execution_count": 6,
     "metadata": {},
     "output_type": "execute_result"
    }
   ],
   "source": [
    "fe.is_vowel('e')"
   ]
  },
  {
   "cell_type": "markdown",
   "id": "6fa2b9f0",
   "metadata": {},
   "source": [
    "### 2a."
   ]
  },
  {
   "cell_type": "code",
   "execution_count": 9,
   "id": "61fb1fe9",
   "metadata": {},
   "outputs": [],
   "source": [
    "from function_exercises import calculate_tip"
   ]
  },
  {
   "cell_type": "code",
   "execution_count": 11,
   "id": "15b7b107",
   "metadata": {},
   "outputs": [
    {
     "name": "stdout",
     "output_type": "stream",
     "text": [
      "How much did it cost?: 100\n",
      "What percent tip do you want? 10/15/20:20\n",
      "20.0\n"
     ]
    }
   ],
   "source": [
    "print(calculate_tip())"
   ]
  },
  {
   "cell_type": "markdown",
   "id": "a979ce56",
   "metadata": {},
   "source": [
    "### 3a."
   ]
  },
  {
   "cell_type": "code",
   "execution_count": 13,
   "id": "39435154",
   "metadata": {},
   "outputs": [],
   "source": [
    "from function_exercises import get_letter_grade as glg"
   ]
  },
  {
   "cell_type": "code",
   "execution_count": 15,
   "id": "05dd409f",
   "metadata": {},
   "outputs": [
    {
     "name": "stdout",
     "output_type": "stream",
     "text": [
      "What was your score?:90\n",
      "A\n"
     ]
    }
   ],
   "source": [
    "print(glg())"
   ]
  },
  {
   "cell_type": "markdown",
   "id": "eec264c9",
   "metadata": {},
   "source": [
    "### 2a. How many different ways can you combine the letters from \"abc\" with the numbers 1, 2, and 3?"
   ]
  },
  {
   "cell_type": "code",
   "execution_count": 31,
   "id": "d9d36f19",
   "metadata": {},
   "outputs": [],
   "source": [
    "import itertools as it"
   ]
  },
  {
   "cell_type": "code",
   "execution_count": 210,
   "id": "00ac1c3f",
   "metadata": {},
   "outputs": [
    {
     "name": "stdout",
     "output_type": "stream",
     "text": [
      "720\n"
     ]
    }
   ],
   "source": [
    "perms = it.permutations('abc123', 6)\n",
    "print(len(list(perms)))"
   ]
  },
  {
   "cell_type": "markdown",
   "id": "5873d4cc",
   "metadata": {},
   "source": [
    "### 2b. How many different combinations are there of 2 letters from \"abcd\"?"
   ]
  },
  {
   "cell_type": "code",
   "execution_count": 54,
   "id": "9a722f79",
   "metadata": {},
   "outputs": [
    {
     "name": "stdout",
     "output_type": "stream",
     "text": [
      "6\n"
     ]
    }
   ],
   "source": [
    "perms = it.combinations('abcd', 2)\n",
    "print(len(list(perms)))"
   ]
  },
  {
   "cell_type": "markdown",
   "id": "5c491359",
   "metadata": {},
   "source": [
    "### 2c."
   ]
  },
  {
   "cell_type": "code",
   "execution_count": 55,
   "id": "41112c77",
   "metadata": {},
   "outputs": [
    {
     "name": "stdout",
     "output_type": "stream",
     "text": [
      "12\n"
     ]
    }
   ],
   "source": [
    "perms = it.permutations('abcd', 2)\n",
    "print(len(list(perms)))"
   ]
  },
  {
   "cell_type": "markdown",
   "id": "9e1753b0",
   "metadata": {},
   "source": [
    "### ----DIFFERENCE BETWEEN COMBINATIONS AND PREMUTATIONS----"
   ]
  },
  {
   "cell_type": "code",
   "execution_count": 56,
   "id": "b6321f54",
   "metadata": {},
   "outputs": [
    {
     "name": "stdout",
     "output_type": "stream",
     "text": [
      "[('a', 'b'), ('a', 'c'), ('a', 'd'), ('b', 'c'), ('b', 'd'), ('c', 'd')]\n"
     ]
    }
   ],
   "source": [
    "perms = it.combinations('abcd', 2)\n",
    "print(list(perms))"
   ]
  },
  {
   "cell_type": "code",
   "execution_count": 57,
   "id": "64c76ee9",
   "metadata": {},
   "outputs": [
    {
     "name": "stdout",
     "output_type": "stream",
     "text": [
      "[('a', 'b'), ('a', 'c'), ('a', 'd'), ('b', 'a'), ('b', 'c'), ('b', 'd'), ('c', 'a'), ('c', 'b'), ('c', 'd'), ('d', 'a'), ('d', 'b'), ('d', 'c')]\n"
     ]
    }
   ],
   "source": [
    "perms = it.permutations('abcd', 2)\n",
    "print(list(perms))"
   ]
  },
  {
   "cell_type": "markdown",
   "id": "81456b9e",
   "metadata": {},
   "source": [
    "### 3."
   ]
  },
  {
   "cell_type": "code",
   "execution_count": 113,
   "id": "47b5f03d",
   "metadata": {},
   "outputs": [],
   "source": [
    "import json"
   ]
  },
  {
   "cell_type": "code",
   "execution_count": 114,
   "id": "5f52dbf9",
   "metadata": {},
   "outputs": [
    {
     "data": {
      "text/plain": [
       "[{'_id': '54e23c3e46ab53a440b580e8',\n",
       "  'index': 0,\n",
       "  'guid': '9962b468-ef3e-4993-b677-617469bc3008',\n",
       "  'isActive': False,\n",
       "  'balance': '$2,097.02',\n",
       "  'picture': 'http://placehold.it/32x32',\n",
       "  'age': 39,\n",
       "  'eyeColor': 'blue',\n",
       "  'name': 'Hebert Estes',\n",
       "  'gender': 'male',\n",
       "  'company': 'ANDRYX',\n",
       "  'email': 'hebertestes@andryx.com',\n",
       "  'phone': '+1 (866) 456-2268',\n",
       "  'address': '121 Emmons Avenue, Klondike, Kentucky, 5975',\n",
       "  'about': 'Sit cillum deserunt irure laboris tempor fugiat laboris. Amet commodo amet est incididunt. Dolore qui fugiat cillum pariatur dolore excepteur elit ipsum.\\r\\n',\n",
       "  'registered': '2014-11-10T01:44:03 +06:00',\n",
       "  'latitude': -80.157843,\n",
       "  'longitude': 161.93016,\n",
       "  'tags': ['sit', 'occaecat', 'non', 'ea', 'sit', 'laboris', 'exercitation'],\n",
       "  'friends': [{'id': 0, 'name': 'Tanisha Leonard'},\n",
       "   {'id': 1, 'name': 'Dennis Wilson'},\n",
       "   {'id': 2, 'name': 'Lupe Howe'}],\n",
       "  'greeting': 'Hello, Hebert Estes! You have 4 unread messages.',\n",
       "  'favoriteFruit': 'strawberry'},\n",
       " {'_id': '54e23c3ef5cc0d250968c212',\n",
       "  'index': 1,\n",
       "  'guid': '905f849d-49bf-4a57-b4f3-5d6e4bf1b04c',\n",
       "  'isActive': False,\n",
       "  'balance': '$3,654.02',\n",
       "  'picture': 'http://placehold.it/32x32',\n",
       "  'age': 30,\n",
       "  'eyeColor': 'green',\n",
       "  'name': 'Allison Wynn',\n",
       "  'gender': 'male',\n",
       "  'company': 'PHARMACON',\n",
       "  'email': 'allisonwynn@pharmacon.com',\n",
       "  'phone': '+1 (926) 525-3131',\n",
       "  'address': '724 Brevoort Place, Lodoga, Indiana, 3880',\n",
       "  'about': 'Esse quis cillum sunt occaecat ad et eu incididunt aliquip dolor. Adipisicing labore magna anim cillum nisi. Elit mollit consequat velit nulla cillum excepteur elit ullamco deserunt. Anim aliquip Lorem excepteur ad veniam et labore in qui ullamco. Occaecat sit do incididunt voluptate id magna ea amet.\\r\\n',\n",
       "  'registered': '2014-06-10T13:41:26 +05:00',\n",
       "  'latitude': 55.737207,\n",
       "  'longitude': -167.177561,\n",
       "  'tags': ['enim',\n",
       "   'officia',\n",
       "   'laboris',\n",
       "   'irure',\n",
       "   'veniam',\n",
       "   'occaecat',\n",
       "   'pariatur'],\n",
       "  'friends': [{'id': 0, 'name': 'Curry Cox'},\n",
       "   {'id': 1, 'name': 'Alma Dale'},\n",
       "   {'id': 2, 'name': 'Barbara Mayo'}],\n",
       "  'greeting': 'Hello, Allison Wynn! You have 19 unread messages.',\n",
       "  'favoriteFruit': 'apple'},\n",
       " {'_id': '54e23c3e09cc6875638cd36b',\n",
       "  'index': 2,\n",
       "  'guid': '1b042d48-9cfa-4db5-8b60-4104165591c3',\n",
       "  'isActive': True,\n",
       "  'balance': '$1,536.02',\n",
       "  'picture': 'http://placehold.it/32x32',\n",
       "  'age': 31,\n",
       "  'eyeColor': 'brown',\n",
       "  'name': 'Jacobs Floyd',\n",
       "  'gender': 'male',\n",
       "  'company': 'QUONK',\n",
       "  'email': 'jacobsfloyd@quonk.com',\n",
       "  'phone': '+1 (853) 537-3315',\n",
       "  'address': '941 Cox Place, Bluffview, Georgia, 5882',\n",
       "  'about': 'Deserunt adipisicing proident exercitation cillum anim consectetur labore exercitation. Commodo reprehenderit laborum enim exercitation. Ullamco nulla culpa aliqua nisi fugiat consectetur deserunt nostrud in eu.\\r\\n',\n",
       "  'registered': '2014-07-30T03:17:32 +05:00',\n",
       "  'latitude': 30.215667,\n",
       "  'longitude': 68.831905,\n",
       "  'tags': ['est', 'aute', 'laborum', 'sint', 'anim', 'sit', 'consectetur'],\n",
       "  'friends': [{'id': 0, 'name': 'Robles Chan'},\n",
       "   {'id': 1, 'name': 'Whitfield Strickland'},\n",
       "   {'id': 2, 'name': 'Lina Melton'}],\n",
       "  'greeting': 'Hello, Jacobs Floyd! You have 5 unread messages.',\n",
       "  'favoriteFruit': 'banana'},\n",
       " {'_id': '54e23c3e54e4094147a3b1da',\n",
       "  'index': 3,\n",
       "  'guid': '69eb3454-8acc-46f1-a636-c6df00dfb542',\n",
       "  'isActive': False,\n",
       "  'balance': '$3,919.64',\n",
       "  'picture': 'http://placehold.it/32x32',\n",
       "  'age': 20,\n",
       "  'eyeColor': 'green',\n",
       "  'name': 'Fay Hammond',\n",
       "  'gender': 'female',\n",
       "  'company': 'INRT',\n",
       "  'email': 'fayhammond@inrt.com',\n",
       "  'phone': '+1 (922) 429-2592',\n",
       "  'address': '518 Randolph Street, Whitestone, Arizona, 8189',\n",
       "  'about': 'Aliqua sunt exercitation quis cupidatat fugiat nulla laboris occaecat ut reprehenderit qui incididunt. Amet excepteur qui amet mollit sint enim velit est dolor eu. Velit labore ea aute ipsum consequat culpa cupidatat excepteur aliqua. Sit commodo id est deserunt commodo. Labore sit deserunt enim in dolore incididunt. Officia qui est veniam cillum consequat minim duis Lorem esse magna culpa cupidatat cupidatat enim. Amet eiusmod elit qui reprehenderit commodo quis.\\r\\n',\n",
       "  'registered': '2015-01-30T08:05:38 +06:00',\n",
       "  'latitude': 33.825844,\n",
       "  'longitude': -65.969538,\n",
       "  'tags': ['aliqua', 'esse', 'sint', 'pariatur', 'commodo', 'do', 'anim'],\n",
       "  'friends': [{'id': 0, 'name': 'Dudley Booker'},\n",
       "   {'id': 1, 'name': 'Esmeralda Tyler'},\n",
       "   {'id': 2, 'name': 'Rosa Hampton'}],\n",
       "  'greeting': 'Hello, Fay Hammond! You have 10 unread messages.',\n",
       "  'favoriteFruit': 'banana'},\n",
       " {'_id': '54e23c3e177caf5567ba87ac',\n",
       "  'index': 4,\n",
       "  'guid': '97962c85-7700-4ffa-a01e-2fcbc147fd81',\n",
       "  'isActive': False,\n",
       "  'balance': '$3,681.39',\n",
       "  'picture': 'http://placehold.it/32x32',\n",
       "  'age': 39,\n",
       "  'eyeColor': 'green',\n",
       "  'name': 'Chasity Marsh',\n",
       "  'gender': 'female',\n",
       "  'company': 'WAZZU',\n",
       "  'email': 'chasitymarsh@wazzu.com',\n",
       "  'phone': '+1 (976) 425-2362',\n",
       "  'address': '604 Just Court, Eastvale, Federated States Of Micronesia, 8644',\n",
       "  'about': 'Irure excepteur consequat esse qui tempor deserunt nulla fugiat. Ut excepteur do veniam dolore dolor proident sunt voluptate ad ipsum nisi. Lorem proident deserunt Lorem cupidatat dolor nulla qui id aliqua. Et nulla laborum deserunt tempor ad culpa. Ullamco occaecat adipisicing dolore laborum laborum duis aliqua nisi irure ex. Incididunt tempor Lorem quis dolore.\\r\\n',\n",
       "  'registered': '2014-07-31T06:03:19 +05:00',\n",
       "  'latitude': -31.660978,\n",
       "  'longitude': 37.559095,\n",
       "  'tags': ['aliquip', 'duis', 'irure', 'amet', 'aliquip', 'dolore', 'esse'],\n",
       "  'friends': [{'id': 0, 'name': 'Kristina Glover'},\n",
       "   {'id': 1, 'name': 'Ora Christian'},\n",
       "   {'id': 2, 'name': 'Jacklyn Joseph'}],\n",
       "  'greeting': 'Hello, Chasity Marsh! You have 9 unread messages.',\n",
       "  'favoriteFruit': 'apple'},\n",
       " {'_id': '54e23c3eaffbb506aa15ec1c',\n",
       "  'index': 5,\n",
       "  'guid': 'fc3e04d1-44c2-449e-891a-d4f8053d14a4',\n",
       "  'isActive': True,\n",
       "  'balance': '$1,694.42',\n",
       "  'picture': 'http://placehold.it/32x32',\n",
       "  'age': 30,\n",
       "  'eyeColor': 'brown',\n",
       "  'name': 'Camacho Cortez',\n",
       "  'gender': 'male',\n",
       "  'company': 'EARTHWAX',\n",
       "  'email': 'camachocortez@earthwax.com',\n",
       "  'phone': '+1 (869) 528-2019',\n",
       "  'address': '101 Haring Street, Nicut, Louisiana, 1473',\n",
       "  'about': 'Qui ad commodo elit voluptate cupidatat exercitation amet ea laborum sunt aliquip nisi irure. Veniam voluptate eiusmod sint aliquip ea. Voluptate voluptate Lorem nulla laborum eiusmod occaecat et nostrud sint in cillum reprehenderit magna nulla. Lorem id fugiat laborum qui mollit amet. Culpa officia ipsum nisi culpa in. Fugiat quis eu cupidatat non culpa in ea velit pariatur non in excepteur.\\r\\n',\n",
       "  'registered': '2014-03-17T12:04:00 +05:00',\n",
       "  'latitude': 74.434627,\n",
       "  'longitude': 69.527088,\n",
       "  'tags': ['et', 'sit', 'in', 'id', 'ullamco', 'elit', 'laborum'],\n",
       "  'friends': [{'id': 0, 'name': 'Sexton Tillman'},\n",
       "   {'id': 1, 'name': 'Boone Steele'},\n",
       "   {'id': 2, 'name': 'Elvia Ward'}],\n",
       "  'greeting': 'Hello, Camacho Cortez! You have 19 unread messages.',\n",
       "  'favoriteFruit': 'apple'},\n",
       " {'_id': '54e23c3e0fd8074c2ca52667',\n",
       "  'index': 6,\n",
       "  'guid': 'af8d9a03-fde9-4039-b20c-c4708d4cfc3c',\n",
       "  'isActive': False,\n",
       "  'balance': '$1,214.10',\n",
       "  'picture': 'http://placehold.it/32x32',\n",
       "  'age': 35,\n",
       "  'eyeColor': 'green',\n",
       "  'name': 'Avery Flynn',\n",
       "  'gender': 'male',\n",
       "  'company': 'TERSANKI',\n",
       "  'email': 'averyflynn@tersanki.com',\n",
       "  'phone': '+1 (966) 404-2471',\n",
       "  'address': '569 Oakland Place, Beyerville, Puerto Rico, 2395',\n",
       "  'about': 'Minim consequat anim ad et tempor et pariatur cillum ut. Ea Lorem consectetur sunt aliquip ea minim minim id dolore incididunt qui magna. Magna velit labore dolore voluptate ut aliquip esse qui est ipsum cupidatat duis enim. Sunt esse eiusmod cupidatat duis quis sunt anim dolore adipisicing enim dolore aliqua mollit. Commodo sit ad eiusmod reprehenderit.\\r\\n',\n",
       "  'registered': '2014-04-13T10:25:03 +05:00',\n",
       "  'latitude': -89.879409,\n",
       "  'longitude': 143.441709,\n",
       "  'tags': ['quis',\n",
       "   'esse',\n",
       "   'Lorem',\n",
       "   'minim',\n",
       "   'nostrud',\n",
       "   'voluptate',\n",
       "   'laborum'],\n",
       "  'friends': [{'id': 0, 'name': 'Ball Henson'},\n",
       "   {'id': 1, 'name': 'Dalton Mccoy'},\n",
       "   {'id': 2, 'name': 'Carolina Sharp'}],\n",
       "  'greeting': 'Hello, Avery Flynn! You have 13 unread messages.',\n",
       "  'favoriteFruit': 'banana'},\n",
       " {'_id': '54e23c3eb112d96e4204914d',\n",
       "  'index': 7,\n",
       "  'guid': '95f1c020-f9eb-4a29-b236-e766759d89d0',\n",
       "  'isActive': False,\n",
       "  'balance': '$2,930.31',\n",
       "  'picture': 'http://placehold.it/32x32',\n",
       "  'age': 23,\n",
       "  'eyeColor': 'blue',\n",
       "  'name': 'Michael Cash',\n",
       "  'gender': 'male',\n",
       "  'company': 'ORBIXTAR',\n",
       "  'email': 'michaelcash@orbixtar.com',\n",
       "  'phone': '+1 (996) 439-3660',\n",
       "  'address': '808 Duryea Court, Downsville, Northern Mariana Islands, 2154',\n",
       "  'about': 'Minim proident minim consectetur nostrud dolor reprehenderit. Ea est proident non do cillum eu est dolor Lorem id. Tempor enim incididunt consequat voluptate nulla ipsum voluptate id. Incididunt enim laboris nostrud in exercitation est culpa nulla velit.\\r\\n',\n",
       "  'registered': '2014-05-24T17:56:54 +05:00',\n",
       "  'latitude': -86.621367,\n",
       "  'longitude': -4.06197,\n",
       "  'tags': ['eu', 'sit', 'dolore', 'culpa', 'Lorem', 'in', 'esse'],\n",
       "  'friends': [{'id': 0, 'name': 'Rodgers Nolan'},\n",
       "   {'id': 1, 'name': 'Jewel Marks'},\n",
       "   {'id': 2, 'name': 'Sue Mejia'}],\n",
       "  'greeting': 'Hello, Michael Cash! You have 17 unread messages.',\n",
       "  'favoriteFruit': 'strawberry'},\n",
       " {'_id': '54e23c3ef30f14d0e5afddf3',\n",
       "  'index': 8,\n",
       "  'guid': 'bde2d56f-2488-40d0-a7d2-21019ee8a18b',\n",
       "  'isActive': False,\n",
       "  'balance': '$1,944.15',\n",
       "  'picture': 'http://placehold.it/32x32',\n",
       "  'age': 25,\n",
       "  'eyeColor': 'green',\n",
       "  'name': 'Madeleine Bray',\n",
       "  'gender': 'female',\n",
       "  'company': 'KIDSTOCK',\n",
       "  'email': 'madeleinebray@kidstock.com',\n",
       "  'phone': '+1 (820) 541-2969',\n",
       "  'address': '684 Stratford Road, Rosine, District Of Columbia, 7177',\n",
       "  'about': 'Ullamco ea esse ullamco commodo quis amet ut ad. Sint eiusmod ullamco minim nostrud amet in ex adipisicing velit cillum Lorem enim nostrud. Deserunt esse incididunt eiusmod commodo ullamco id pariatur tempor duis laboris Lorem. Laboris magna Lorem quis laborum ullamco. Dolor minim magna ut occaecat in consequat consequat in commodo pariatur voluptate pariatur dolore. Quis exercitation cillum labore cillum laborum. Dolore est reprehenderit anim reprehenderit consectetur sit quis ea ut veniam.\\r\\n',\n",
       "  'registered': '2014-08-11T08:54:06 +05:00',\n",
       "  'latitude': 45.118798,\n",
       "  'longitude': -7.698707,\n",
       "  'tags': ['id',\n",
       "   'magna',\n",
       "   'excepteur',\n",
       "   'excepteur',\n",
       "   'excepteur',\n",
       "   'duis',\n",
       "   'excepteur'],\n",
       "  'friends': [{'id': 0, 'name': 'Herrera Doyle'},\n",
       "   {'id': 1, 'name': 'Berger Fisher'},\n",
       "   {'id': 2, 'name': 'Chang Coffey'}],\n",
       "  'greeting': 'Hello, Madeleine Bray! You have 2 unread messages.',\n",
       "  'favoriteFruit': 'strawberry'},\n",
       " {'_id': '54e23c3ebd80e9c26b057fa3',\n",
       "  'index': 9,\n",
       "  'guid': '75991ca5-05ed-499e-bbb5-f057f86d05d7',\n",
       "  'isActive': True,\n",
       "  'balance': '$2,839.22',\n",
       "  'picture': 'http://placehold.it/32x32',\n",
       "  'age': 37,\n",
       "  'eyeColor': 'blue',\n",
       "  'name': 'Corine French',\n",
       "  'gender': 'female',\n",
       "  'company': 'INTRAWEAR',\n",
       "  'email': 'corinefrench@intrawear.com',\n",
       "  'phone': '+1 (987) 573-3164',\n",
       "  'address': '964 Clara Street, Snyderville, Oklahoma, 3627',\n",
       "  'about': 'Sint cillum laborum labore duis fugiat voluptate adipisicing. Ad culpa et et ea incididunt nulla excepteur officia. Cillum veniam amet ipsum reprehenderit do eiusmod aliqua aute nisi Lorem consectetur esse in incididunt.\\r\\n',\n",
       "  'registered': '2014-06-25T20:17:13 +05:00',\n",
       "  'latitude': -37.637422,\n",
       "  'longitude': 154.195523,\n",
       "  'tags': ['laboris',\n",
       "   'in',\n",
       "   'dolore',\n",
       "   'mollit',\n",
       "   'velit',\n",
       "   'laboris',\n",
       "   'excepteur'],\n",
       "  'friends': [{'id': 0, 'name': 'Greta Hill'},\n",
       "   {'id': 1, 'name': 'Cline Curry'},\n",
       "   {'id': 2, 'name': 'Branch Sawyer'}],\n",
       "  'greeting': 'Hello, Corine French! You have 18 unread messages.',\n",
       "  'favoriteFruit': 'banana'},\n",
       " {'_id': '54e23c3e6d89c09f5507e7dd',\n",
       "  'index': 10,\n",
       "  'guid': '87cffc18-3acf-40c5-8708-1bb93f1b68de',\n",
       "  'isActive': True,\n",
       "  'balance': '$2,467.31',\n",
       "  'picture': 'http://placehold.it/32x32',\n",
       "  'age': 29,\n",
       "  'eyeColor': 'blue',\n",
       "  'name': 'Trudy Cummings',\n",
       "  'gender': 'female',\n",
       "  'company': 'SPLINX',\n",
       "  'email': 'trudycummings@splinx.com',\n",
       "  'phone': '+1 (925) 403-2797',\n",
       "  'address': '558 Charles Place, Tedrow, California, 9832',\n",
       "  'about': 'Non id adipisicing deserunt non magna ex adipisicing sint esse sint. Laborum ea nostrud Lorem voluptate quis proident eu nisi exercitation in. Consequat occaecat proident officia anim.\\r\\n',\n",
       "  'registered': '2014-03-13T17:54:31 +05:00',\n",
       "  'latitude': -36.185131,\n",
       "  'longitude': -37.774906,\n",
       "  'tags': ['aute', 'occaecat', 'ea', 'pariatur', 'consectetur', 'magna', 'ea'],\n",
       "  'friends': [{'id': 0, 'name': 'Amber Gates'},\n",
       "   {'id': 1, 'name': 'Barron Walsh'},\n",
       "   {'id': 2, 'name': 'Nell Bolton'}],\n",
       "  'greeting': 'Hello, Trudy Cummings! You have 2 unread messages.',\n",
       "  'favoriteFruit': 'strawberry'},\n",
       " {'_id': '54e23c3e4192cf53edd67c99',\n",
       "  'index': 11,\n",
       "  'guid': '5a5496f1-a027-4c21-85da-c399234cd9a5',\n",
       "  'isActive': True,\n",
       "  'balance': '$3,304.99',\n",
       "  'picture': 'http://placehold.it/32x32',\n",
       "  'age': 21,\n",
       "  'eyeColor': 'brown',\n",
       "  'name': 'Peggy Mayer',\n",
       "  'gender': 'female',\n",
       "  'company': 'ACCUPRINT',\n",
       "  'email': 'peggymayer@accuprint.com',\n",
       "  'phone': '+1 (854) 428-2585',\n",
       "  'address': '830 Willmohr Street, Crenshaw, Missouri, 6032',\n",
       "  'about': 'Aliqua sit enim cillum aliquip ad proident excepteur in consectetur eiusmod. Ipsum sint cillum veniam eiusmod aute sunt et do est tempor. Lorem elit dolor dolore incididunt cillum. Enim occaecat minim sunt cillum est velit cillum deserunt tempor eu.\\r\\n',\n",
       "  'registered': '2014-09-14T07:06:49 +05:00',\n",
       "  'latitude': 48.323912,\n",
       "  'longitude': 22.184821,\n",
       "  'tags': ['commodo', 'esse', 'ad', 'ullamco', 'ea', 'sint', 'ipsum'],\n",
       "  'friends': [{'id': 0, 'name': 'Hopkins Mccall'},\n",
       "   {'id': 1, 'name': 'Nielsen Weeks'},\n",
       "   {'id': 2, 'name': 'Dale Knowles'}],\n",
       "  'greeting': 'Hello, Peggy Mayer! You have 13 unread messages.',\n",
       "  'favoriteFruit': 'strawberry'},\n",
       " {'_id': '54e23c3eedcc65f0ec3a5496',\n",
       "  'index': 12,\n",
       "  'guid': '759a21c4-5f9c-4189-9c50-c9d8a9f31037',\n",
       "  'isActive': False,\n",
       "  'balance': '$3,844.42',\n",
       "  'picture': 'http://placehold.it/32x32',\n",
       "  'age': 40,\n",
       "  'eyeColor': 'brown',\n",
       "  'name': 'Chan Hurley',\n",
       "  'gender': 'male',\n",
       "  'company': 'ZEAM',\n",
       "  'email': 'chanhurley@zeam.com',\n",
       "  'phone': '+1 (917) 475-3705',\n",
       "  'address': '915 Channel Avenue, Clinton, North Dakota, 6244',\n",
       "  'about': 'Voluptate exercitation ut anim ex adipisicing ut do officia incididunt fugiat cupidatat aliqua. Cillum ullamco irure dolore est consectetur non consequat. Nulla ullamco eu irure qui dolor magna ipsum id in enim voluptate aute. Officia aliqua dolore ut reprehenderit Lorem cillum. Cillum reprehenderit eu cillum aliqua sint eiusmod cupidatat culpa elit in. Fugiat voluptate reprehenderit amet anim qui nisi velit aliqua proident anim.\\r\\n',\n",
       "  'registered': '2014-03-01T14:51:23 +06:00',\n",
       "  'latitude': 85.901051,\n",
       "  'longitude': -74.986179,\n",
       "  'tags': ['minim', 'veniam', 'sit', 'aute', 'irure', 'non', 'eiusmod'],\n",
       "  'friends': [{'id': 0, 'name': 'Reese Grant'},\n",
       "   {'id': 1, 'name': 'Jenna Kinney'},\n",
       "   {'id': 2, 'name': 'Rhea May'}],\n",
       "  'greeting': 'Hello, Chan Hurley! You have 7 unread messages.',\n",
       "  'favoriteFruit': 'apple'},\n",
       " {'_id': '54e23c3eb813e66c6d33aa82',\n",
       "  'index': 13,\n",
       "  'guid': '6fd14a8e-3158-48eb-a7e1-93fe57b74746',\n",
       "  'isActive': True,\n",
       "  'balance': '$3,594.99',\n",
       "  'picture': 'http://placehold.it/32x32',\n",
       "  'age': 40,\n",
       "  'eyeColor': 'blue',\n",
       "  'name': 'Diaz Pena',\n",
       "  'gender': 'male',\n",
       "  'company': 'SUREPLEX',\n",
       "  'email': 'diazpena@sureplex.com',\n",
       "  'phone': '+1 (986) 511-3050',\n",
       "  'address': '184 Kingsway Place, Grantville, Michigan, 2421',\n",
       "  'about': 'Enim elit amet officia consectetur do Lorem reprehenderit cupidatat exercitation velit. Ex tempor esse consectetur dolore aute et. Cupidatat duis nulla in incididunt nulla ullamco non magna officia commodo anim. Labore quis ullamco est deserunt excepteur duis nostrud deserunt cillum proident. Non eiusmod consectetur pariatur deserunt irure quis exercitation ex incididunt quis dolore pariatur sunt irure. Eu do fugiat laboris tempor culpa.\\r\\n',\n",
       "  'registered': '2014-04-19T20:43:12 +05:00',\n",
       "  'latitude': 6.606991,\n",
       "  'longitude': 81.593748,\n",
       "  'tags': ['excepteur',\n",
       "   'elit',\n",
       "   'ullamco',\n",
       "   'excepteur',\n",
       "   'ad',\n",
       "   'quis',\n",
       "   'dolore'],\n",
       "  'friends': [{'id': 0, 'name': 'Mcmillan Knox'},\n",
       "   {'id': 1, 'name': 'Flossie Dixon'},\n",
       "   {'id': 2, 'name': 'Sears Carson'}],\n",
       "  'greeting': 'Hello, Diaz Pena! You have 13 unread messages.',\n",
       "  'favoriteFruit': 'strawberry'},\n",
       " {'_id': '54e23c3e502a2f526b689c3e',\n",
       "  'index': 14,\n",
       "  'guid': '459cc82d-7878-42cb-b9c6-073506380036',\n",
       "  'isActive': True,\n",
       "  'balance': '$2,940.24',\n",
       "  'picture': 'http://placehold.it/32x32',\n",
       "  'age': 40,\n",
       "  'eyeColor': 'brown',\n",
       "  'name': 'Heath Castaneda',\n",
       "  'gender': 'male',\n",
       "  'company': 'NETPLODE',\n",
       "  'email': 'heathcastaneda@netplode.com',\n",
       "  'phone': '+1 (944) 478-3741',\n",
       "  'address': '278 Village Road, Sunnyside, Massachusetts, 7496',\n",
       "  'about': 'Consectetur mollit cupidatat ex consectetur eiusmod ut. Cupidatat anim cupidatat cupidatat minim ipsum et quis amet proident pariatur. Do consectetur fugiat quis nisi non. Ut eu consequat consequat in ullamco eiusmod quis cillum sunt dolore anim. Non irure aliqua aliqua enim elit labore consequat.\\r\\n',\n",
       "  'registered': '2014-07-30T21:38:43 +05:00',\n",
       "  'latitude': 69.928876,\n",
       "  'longitude': 33.649878,\n",
       "  'tags': ['elit', 'commodo', 'ut', 'ullamco', 'ullamco', 'velit', 'ullamco'],\n",
       "  'friends': [{'id': 0, 'name': 'Dora Mack'},\n",
       "   {'id': 1, 'name': 'Christensen Camacho'},\n",
       "   {'id': 2, 'name': 'Castro Kelly'}],\n",
       "  'greeting': 'Hello, Heath Castaneda! You have 12 unread messages.',\n",
       "  'favoriteFruit': 'strawberry'},\n",
       " {'_id': '54e23c3e69d22e49c7fe62de',\n",
       "  'index': 15,\n",
       "  'guid': '33d2bbe5-d6f7-4844-88fc-b9f6af63b373',\n",
       "  'isActive': False,\n",
       "  'balance': '$3,062.41',\n",
       "  'picture': 'http://placehold.it/32x32',\n",
       "  'age': 38,\n",
       "  'eyeColor': 'brown',\n",
       "  'name': 'Greer Blankenship',\n",
       "  'gender': 'male',\n",
       "  'company': 'QUALITERN',\n",
       "  'email': 'greerblankenship@qualitern.com',\n",
       "  'phone': '+1 (957) 482-3874',\n",
       "  'address': '557 Ingraham Street, Brambleton, South Dakota, 8482',\n",
       "  'about': 'Non in excepteur nostrud consectetur. Qui non consectetur officia incididunt elit laboris exercitation exercitation est minim veniam ullamco dolore. Eu sit aute culpa ex sunt amet. Ut et amet Lorem sunt anim pariatur.\\r\\n',\n",
       "  'registered': '2014-03-30T21:39:41 +05:00',\n",
       "  'latitude': -71.093388,\n",
       "  'longitude': 65.740255,\n",
       "  'tags': ['enim',\n",
       "   'eiusmod',\n",
       "   'Lorem',\n",
       "   'reprehenderit',\n",
       "   'nisi',\n",
       "   'anim',\n",
       "   'sunt'],\n",
       "  'friends': [{'id': 0, 'name': 'Woods Norman'},\n",
       "   {'id': 1, 'name': 'Marilyn Haney'},\n",
       "   {'id': 2, 'name': 'Webster Nielsen'}],\n",
       "  'greeting': 'Hello, Greer Blankenship! You have 7 unread messages.',\n",
       "  'favoriteFruit': 'banana'},\n",
       " {'_id': '54e23c3e42676228c442a669',\n",
       "  'index': 16,\n",
       "  'guid': 'e44604f0-c7a8-4b89-bda3-0f4710ebe28a',\n",
       "  'isActive': False,\n",
       "  'balance': '$3,067.82',\n",
       "  'picture': 'http://placehold.it/32x32',\n",
       "  'age': 32,\n",
       "  'eyeColor': 'green',\n",
       "  'name': 'Coffey Hayes',\n",
       "  'gender': 'male',\n",
       "  'company': 'INQUALA',\n",
       "  'email': 'coffeyhayes@inquala.com',\n",
       "  'phone': '+1 (880) 451-3490',\n",
       "  'address': '490 Durland Place, Craig, Tennessee, 5034',\n",
       "  'about': 'Est esse irure Lorem ullamco veniam fugiat laborum veniam excepteur. Ad enim pariatur nostrud excepteur et nostrud velit dolore ex enim cillum in aliquip fugiat. Nulla laborum exercitation irure magna elit laborum magna ad excepteur. Cillum pariatur Lorem eiusmod ad dolore eiusmod veniam do minim laborum in dolor. Reprehenderit elit ad id voluptate Lorem Lorem dolor cupidatat excepteur. Proident minim ea aute nulla.\\r\\n',\n",
       "  'registered': '2014-04-01T23:04:39 +05:00',\n",
       "  'latitude': -30.662644,\n",
       "  'longitude': 59.806684,\n",
       "  'tags': ['duis', 'est', 'in', 'officia', 'nostrud', 'occaecat', 'mollit'],\n",
       "  'friends': [{'id': 0, 'name': 'Suarez Perry'},\n",
       "   {'id': 1, 'name': 'Marlene Sheppard'},\n",
       "   {'id': 2, 'name': 'Cohen Yates'}],\n",
       "  'greeting': 'Hello, Coffey Hayes! You have 19 unread messages.',\n",
       "  'favoriteFruit': 'strawberry'},\n",
       " {'_id': '54e23c3e4ac5969958013235',\n",
       "  'index': 17,\n",
       "  'guid': 'fa7e26df-d239-41e8-9aa9-be5e808b6f89',\n",
       "  'isActive': True,\n",
       "  'balance': '$2,646.76',\n",
       "  'picture': 'http://placehold.it/32x32',\n",
       "  'age': 24,\n",
       "  'eyeColor': 'brown',\n",
       "  'name': 'Leanne Hurst',\n",
       "  'gender': 'female',\n",
       "  'company': 'ACCIDENCY',\n",
       "  'email': 'leannehurst@accidency.com',\n",
       "  'phone': '+1 (820) 420-3317',\n",
       "  'address': '196 Columbus Place, Carbonville, New Jersey, 7513',\n",
       "  'about': 'Dolor occaecat dolore ut tempor. Veniam elit anim duis do pariatur. Qui excepteur nisi eiusmod mollit laboris fugiat commodo ipsum reprehenderit labore cillum. Aliquip laborum commodo nisi cupidatat labore nostrud exercitation adipisicing mollit eu magna proident ex Lorem. Nostrud magna sint sint consequat consectetur et sint.\\r\\n',\n",
       "  'registered': '2014-11-10T01:25:55 +06:00',\n",
       "  'latitude': 16.671695,\n",
       "  'longitude': 139.707959,\n",
       "  'tags': ['culpa',\n",
       "   'deserunt',\n",
       "   'tempor',\n",
       "   'quis',\n",
       "   'reprehenderit',\n",
       "   'incididunt',\n",
       "   'est'],\n",
       "  'friends': [{'id': 0, 'name': 'Farley Frank'},\n",
       "   {'id': 1, 'name': 'Pruitt Frye'},\n",
       "   {'id': 2, 'name': 'Simpson Cardenas'}],\n",
       "  'greeting': 'Hello, Leanne Hurst! You have 5 unread messages.',\n",
       "  'favoriteFruit': 'banana'},\n",
       " {'_id': '54e23c3ed945981ba2580614',\n",
       "  'index': 18,\n",
       "  'guid': 'e608dc5c-fee4-4086-971b-3ebd37bfa137',\n",
       "  'isActive': True,\n",
       "  'balance': '$2,227.79',\n",
       "  'picture': 'http://placehold.it/32x32',\n",
       "  'age': 22,\n",
       "  'eyeColor': 'brown',\n",
       "  'name': 'Ewing Larson',\n",
       "  'gender': 'male',\n",
       "  'company': 'ESCENTA',\n",
       "  'email': 'ewinglarson@escenta.com',\n",
       "  'phone': '+1 (943) 439-3760',\n",
       "  'address': '136 Beard Street, Wattsville, New Hampshire, 2803',\n",
       "  'about': 'Veniam eiusmod exercitation culpa mollit reprehenderit ullamco voluptate voluptate irure qui duis anim et. Laborum dolor quis do voluptate. In pariatur dolor id mollit et enim. Qui ex qui in cillum irure enim non reprehenderit irure et excepteur aliquip eu eu.\\r\\n',\n",
       "  'registered': '2014-07-21T19:17:41 +05:00',\n",
       "  'latitude': 15.903555,\n",
       "  'longitude': -159.721203,\n",
       "  'tags': ['Lorem',\n",
       "   'magna',\n",
       "   'dolor',\n",
       "   'aliquip',\n",
       "   'reprehenderit',\n",
       "   'eu',\n",
       "   'voluptate'],\n",
       "  'friends': [{'id': 0, 'name': 'Suzette Huffman'},\n",
       "   {'id': 1, 'name': 'Paige Santiago'},\n",
       "   {'id': 2, 'name': 'Dollie Fernandez'}],\n",
       "  'greeting': 'Hello, Ewing Larson! You have 16 unread messages.',\n",
       "  'favoriteFruit': 'strawberry'}]"
      ]
     },
     "execution_count": 114,
     "metadata": {},
     "output_type": "execute_result"
    }
   ],
   "source": [
    "json.load(open('profiles.json'))"
   ]
  },
  {
   "cell_type": "code",
   "execution_count": 115,
   "id": "b71908f2",
   "metadata": {},
   "outputs": [],
   "source": [
    "data = json.load(open('profiles.json'))"
   ]
  },
  {
   "cell_type": "code",
   "execution_count": 143,
   "id": "07486356",
   "metadata": {},
   "outputs": [
    {
     "data": {
      "text/plain": [
       "[{'_id': '54e23c3e46ab53a440b580e8',\n",
       "  'index': 0,\n",
       "  'guid': '9962b468-ef3e-4993-b677-617469bc3008',\n",
       "  'isActive': False,\n",
       "  'balance': '$2,097.02',\n",
       "  'picture': 'http://placehold.it/32x32',\n",
       "  'age': 39,\n",
       "  'eyeColor': 'blue',\n",
       "  'name': 'Hebert Estes',\n",
       "  'gender': 'male',\n",
       "  'company': 'ANDRYX',\n",
       "  'email': 'hebertestes@andryx.com',\n",
       "  'phone': '+1 (866) 456-2268',\n",
       "  'address': '121 Emmons Avenue, Klondike, Kentucky, 5975',\n",
       "  'about': 'Sit cillum deserunt irure laboris tempor fugiat laboris. Amet commodo amet est incididunt. Dolore qui fugiat cillum pariatur dolore excepteur elit ipsum.\\r\\n',\n",
       "  'registered': '2014-11-10T01:44:03 +06:00',\n",
       "  'latitude': -80.157843,\n",
       "  'longitude': 161.93016,\n",
       "  'tags': ['sit', 'occaecat', 'non', 'ea', 'sit', 'laboris', 'exercitation'],\n",
       "  'friends': [{'id': 0, 'name': 'Tanisha Leonard'},\n",
       "   {'id': 1, 'name': 'Dennis Wilson'},\n",
       "   {'id': 2, 'name': 'Lupe Howe'}],\n",
       "  'greeting': 'Hello, Hebert Estes! You have 4 unread messages.',\n",
       "  'favoriteFruit': 'strawberry'},\n",
       " {'_id': '54e23c3ef5cc0d250968c212',\n",
       "  'index': 1,\n",
       "  'guid': '905f849d-49bf-4a57-b4f3-5d6e4bf1b04c',\n",
       "  'isActive': False,\n",
       "  'balance': '$3,654.02',\n",
       "  'picture': 'http://placehold.it/32x32',\n",
       "  'age': 30,\n",
       "  'eyeColor': 'green',\n",
       "  'name': 'Allison Wynn',\n",
       "  'gender': 'male',\n",
       "  'company': 'PHARMACON',\n",
       "  'email': 'allisonwynn@pharmacon.com',\n",
       "  'phone': '+1 (926) 525-3131',\n",
       "  'address': '724 Brevoort Place, Lodoga, Indiana, 3880',\n",
       "  'about': 'Esse quis cillum sunt occaecat ad et eu incididunt aliquip dolor. Adipisicing labore magna anim cillum nisi. Elit mollit consequat velit nulla cillum excepteur elit ullamco deserunt. Anim aliquip Lorem excepteur ad veniam et labore in qui ullamco. Occaecat sit do incididunt voluptate id magna ea amet.\\r\\n',\n",
       "  'registered': '2014-06-10T13:41:26 +05:00',\n",
       "  'latitude': 55.737207,\n",
       "  'longitude': -167.177561,\n",
       "  'tags': ['enim',\n",
       "   'officia',\n",
       "   'laboris',\n",
       "   'irure',\n",
       "   'veniam',\n",
       "   'occaecat',\n",
       "   'pariatur'],\n",
       "  'friends': [{'id': 0, 'name': 'Curry Cox'},\n",
       "   {'id': 1, 'name': 'Alma Dale'},\n",
       "   {'id': 2, 'name': 'Barbara Mayo'}],\n",
       "  'greeting': 'Hello, Allison Wynn! You have 19 unread messages.',\n",
       "  'favoriteFruit': 'apple'},\n",
       " {'_id': '54e23c3e09cc6875638cd36b',\n",
       "  'index': 2,\n",
       "  'guid': '1b042d48-9cfa-4db5-8b60-4104165591c3',\n",
       "  'isActive': True,\n",
       "  'balance': '$1,536.02',\n",
       "  'picture': 'http://placehold.it/32x32',\n",
       "  'age': 31,\n",
       "  'eyeColor': 'brown',\n",
       "  'name': 'Jacobs Floyd',\n",
       "  'gender': 'male',\n",
       "  'company': 'QUONK',\n",
       "  'email': 'jacobsfloyd@quonk.com',\n",
       "  'phone': '+1 (853) 537-3315',\n",
       "  'address': '941 Cox Place, Bluffview, Georgia, 5882',\n",
       "  'about': 'Deserunt adipisicing proident exercitation cillum anim consectetur labore exercitation. Commodo reprehenderit laborum enim exercitation. Ullamco nulla culpa aliqua nisi fugiat consectetur deserunt nostrud in eu.\\r\\n',\n",
       "  'registered': '2014-07-30T03:17:32 +05:00',\n",
       "  'latitude': 30.215667,\n",
       "  'longitude': 68.831905,\n",
       "  'tags': ['est', 'aute', 'laborum', 'sint', 'anim', 'sit', 'consectetur'],\n",
       "  'friends': [{'id': 0, 'name': 'Robles Chan'},\n",
       "   {'id': 1, 'name': 'Whitfield Strickland'},\n",
       "   {'id': 2, 'name': 'Lina Melton'}],\n",
       "  'greeting': 'Hello, Jacobs Floyd! You have 5 unread messages.',\n",
       "  'favoriteFruit': 'banana'},\n",
       " {'_id': '54e23c3e54e4094147a3b1da',\n",
       "  'index': 3,\n",
       "  'guid': '69eb3454-8acc-46f1-a636-c6df00dfb542',\n",
       "  'isActive': False,\n",
       "  'balance': '$3,919.64',\n",
       "  'picture': 'http://placehold.it/32x32',\n",
       "  'age': 20,\n",
       "  'eyeColor': 'green',\n",
       "  'name': 'Fay Hammond',\n",
       "  'gender': 'female',\n",
       "  'company': 'INRT',\n",
       "  'email': 'fayhammond@inrt.com',\n",
       "  'phone': '+1 (922) 429-2592',\n",
       "  'address': '518 Randolph Street, Whitestone, Arizona, 8189',\n",
       "  'about': 'Aliqua sunt exercitation quis cupidatat fugiat nulla laboris occaecat ut reprehenderit qui incididunt. Amet excepteur qui amet mollit sint enim velit est dolor eu. Velit labore ea aute ipsum consequat culpa cupidatat excepteur aliqua. Sit commodo id est deserunt commodo. Labore sit deserunt enim in dolore incididunt. Officia qui est veniam cillum consequat minim duis Lorem esse magna culpa cupidatat cupidatat enim. Amet eiusmod elit qui reprehenderit commodo quis.\\r\\n',\n",
       "  'registered': '2015-01-30T08:05:38 +06:00',\n",
       "  'latitude': 33.825844,\n",
       "  'longitude': -65.969538,\n",
       "  'tags': ['aliqua', 'esse', 'sint', 'pariatur', 'commodo', 'do', 'anim'],\n",
       "  'friends': [{'id': 0, 'name': 'Dudley Booker'},\n",
       "   {'id': 1, 'name': 'Esmeralda Tyler'},\n",
       "   {'id': 2, 'name': 'Rosa Hampton'}],\n",
       "  'greeting': 'Hello, Fay Hammond! You have 10 unread messages.',\n",
       "  'favoriteFruit': 'banana'},\n",
       " {'_id': '54e23c3e177caf5567ba87ac',\n",
       "  'index': 4,\n",
       "  'guid': '97962c85-7700-4ffa-a01e-2fcbc147fd81',\n",
       "  'isActive': False,\n",
       "  'balance': '$3,681.39',\n",
       "  'picture': 'http://placehold.it/32x32',\n",
       "  'age': 39,\n",
       "  'eyeColor': 'green',\n",
       "  'name': 'Chasity Marsh',\n",
       "  'gender': 'female',\n",
       "  'company': 'WAZZU',\n",
       "  'email': 'chasitymarsh@wazzu.com',\n",
       "  'phone': '+1 (976) 425-2362',\n",
       "  'address': '604 Just Court, Eastvale, Federated States Of Micronesia, 8644',\n",
       "  'about': 'Irure excepteur consequat esse qui tempor deserunt nulla fugiat. Ut excepteur do veniam dolore dolor proident sunt voluptate ad ipsum nisi. Lorem proident deserunt Lorem cupidatat dolor nulla qui id aliqua. Et nulla laborum deserunt tempor ad culpa. Ullamco occaecat adipisicing dolore laborum laborum duis aliqua nisi irure ex. Incididunt tempor Lorem quis dolore.\\r\\n',\n",
       "  'registered': '2014-07-31T06:03:19 +05:00',\n",
       "  'latitude': -31.660978,\n",
       "  'longitude': 37.559095,\n",
       "  'tags': ['aliquip', 'duis', 'irure', 'amet', 'aliquip', 'dolore', 'esse'],\n",
       "  'friends': [{'id': 0, 'name': 'Kristina Glover'},\n",
       "   {'id': 1, 'name': 'Ora Christian'},\n",
       "   {'id': 2, 'name': 'Jacklyn Joseph'}],\n",
       "  'greeting': 'Hello, Chasity Marsh! You have 9 unread messages.',\n",
       "  'favoriteFruit': 'apple'},\n",
       " {'_id': '54e23c3eaffbb506aa15ec1c',\n",
       "  'index': 5,\n",
       "  'guid': 'fc3e04d1-44c2-449e-891a-d4f8053d14a4',\n",
       "  'isActive': True,\n",
       "  'balance': '$1,694.42',\n",
       "  'picture': 'http://placehold.it/32x32',\n",
       "  'age': 30,\n",
       "  'eyeColor': 'brown',\n",
       "  'name': 'Camacho Cortez',\n",
       "  'gender': 'male',\n",
       "  'company': 'EARTHWAX',\n",
       "  'email': 'camachocortez@earthwax.com',\n",
       "  'phone': '+1 (869) 528-2019',\n",
       "  'address': '101 Haring Street, Nicut, Louisiana, 1473',\n",
       "  'about': 'Qui ad commodo elit voluptate cupidatat exercitation amet ea laborum sunt aliquip nisi irure. Veniam voluptate eiusmod sint aliquip ea. Voluptate voluptate Lorem nulla laborum eiusmod occaecat et nostrud sint in cillum reprehenderit magna nulla. Lorem id fugiat laborum qui mollit amet. Culpa officia ipsum nisi culpa in. Fugiat quis eu cupidatat non culpa in ea velit pariatur non in excepteur.\\r\\n',\n",
       "  'registered': '2014-03-17T12:04:00 +05:00',\n",
       "  'latitude': 74.434627,\n",
       "  'longitude': 69.527088,\n",
       "  'tags': ['et', 'sit', 'in', 'id', 'ullamco', 'elit', 'laborum'],\n",
       "  'friends': [{'id': 0, 'name': 'Sexton Tillman'},\n",
       "   {'id': 1, 'name': 'Boone Steele'},\n",
       "   {'id': 2, 'name': 'Elvia Ward'}],\n",
       "  'greeting': 'Hello, Camacho Cortez! You have 19 unread messages.',\n",
       "  'favoriteFruit': 'apple'},\n",
       " {'_id': '54e23c3e0fd8074c2ca52667',\n",
       "  'index': 6,\n",
       "  'guid': 'af8d9a03-fde9-4039-b20c-c4708d4cfc3c',\n",
       "  'isActive': False,\n",
       "  'balance': '$1,214.10',\n",
       "  'picture': 'http://placehold.it/32x32',\n",
       "  'age': 35,\n",
       "  'eyeColor': 'green',\n",
       "  'name': 'Avery Flynn',\n",
       "  'gender': 'male',\n",
       "  'company': 'TERSANKI',\n",
       "  'email': 'averyflynn@tersanki.com',\n",
       "  'phone': '+1 (966) 404-2471',\n",
       "  'address': '569 Oakland Place, Beyerville, Puerto Rico, 2395',\n",
       "  'about': 'Minim consequat anim ad et tempor et pariatur cillum ut. Ea Lorem consectetur sunt aliquip ea minim minim id dolore incididunt qui magna. Magna velit labore dolore voluptate ut aliquip esse qui est ipsum cupidatat duis enim. Sunt esse eiusmod cupidatat duis quis sunt anim dolore adipisicing enim dolore aliqua mollit. Commodo sit ad eiusmod reprehenderit.\\r\\n',\n",
       "  'registered': '2014-04-13T10:25:03 +05:00',\n",
       "  'latitude': -89.879409,\n",
       "  'longitude': 143.441709,\n",
       "  'tags': ['quis',\n",
       "   'esse',\n",
       "   'Lorem',\n",
       "   'minim',\n",
       "   'nostrud',\n",
       "   'voluptate',\n",
       "   'laborum'],\n",
       "  'friends': [{'id': 0, 'name': 'Ball Henson'},\n",
       "   {'id': 1, 'name': 'Dalton Mccoy'},\n",
       "   {'id': 2, 'name': 'Carolina Sharp'}],\n",
       "  'greeting': 'Hello, Avery Flynn! You have 13 unread messages.',\n",
       "  'favoriteFruit': 'banana'},\n",
       " {'_id': '54e23c3eb112d96e4204914d',\n",
       "  'index': 7,\n",
       "  'guid': '95f1c020-f9eb-4a29-b236-e766759d89d0',\n",
       "  'isActive': False,\n",
       "  'balance': '$2,930.31',\n",
       "  'picture': 'http://placehold.it/32x32',\n",
       "  'age': 23,\n",
       "  'eyeColor': 'blue',\n",
       "  'name': 'Michael Cash',\n",
       "  'gender': 'male',\n",
       "  'company': 'ORBIXTAR',\n",
       "  'email': 'michaelcash@orbixtar.com',\n",
       "  'phone': '+1 (996) 439-3660',\n",
       "  'address': '808 Duryea Court, Downsville, Northern Mariana Islands, 2154',\n",
       "  'about': 'Minim proident minim consectetur nostrud dolor reprehenderit. Ea est proident non do cillum eu est dolor Lorem id. Tempor enim incididunt consequat voluptate nulla ipsum voluptate id. Incididunt enim laboris nostrud in exercitation est culpa nulla velit.\\r\\n',\n",
       "  'registered': '2014-05-24T17:56:54 +05:00',\n",
       "  'latitude': -86.621367,\n",
       "  'longitude': -4.06197,\n",
       "  'tags': ['eu', 'sit', 'dolore', 'culpa', 'Lorem', 'in', 'esse'],\n",
       "  'friends': [{'id': 0, 'name': 'Rodgers Nolan'},\n",
       "   {'id': 1, 'name': 'Jewel Marks'},\n",
       "   {'id': 2, 'name': 'Sue Mejia'}],\n",
       "  'greeting': 'Hello, Michael Cash! You have 17 unread messages.',\n",
       "  'favoriteFruit': 'strawberry'},\n",
       " {'_id': '54e23c3ef30f14d0e5afddf3',\n",
       "  'index': 8,\n",
       "  'guid': 'bde2d56f-2488-40d0-a7d2-21019ee8a18b',\n",
       "  'isActive': False,\n",
       "  'balance': '$1,944.15',\n",
       "  'picture': 'http://placehold.it/32x32',\n",
       "  'age': 25,\n",
       "  'eyeColor': 'green',\n",
       "  'name': 'Madeleine Bray',\n",
       "  'gender': 'female',\n",
       "  'company': 'KIDSTOCK',\n",
       "  'email': 'madeleinebray@kidstock.com',\n",
       "  'phone': '+1 (820) 541-2969',\n",
       "  'address': '684 Stratford Road, Rosine, District Of Columbia, 7177',\n",
       "  'about': 'Ullamco ea esse ullamco commodo quis amet ut ad. Sint eiusmod ullamco minim nostrud amet in ex adipisicing velit cillum Lorem enim nostrud. Deserunt esse incididunt eiusmod commodo ullamco id pariatur tempor duis laboris Lorem. Laboris magna Lorem quis laborum ullamco. Dolor minim magna ut occaecat in consequat consequat in commodo pariatur voluptate pariatur dolore. Quis exercitation cillum labore cillum laborum. Dolore est reprehenderit anim reprehenderit consectetur sit quis ea ut veniam.\\r\\n',\n",
       "  'registered': '2014-08-11T08:54:06 +05:00',\n",
       "  'latitude': 45.118798,\n",
       "  'longitude': -7.698707,\n",
       "  'tags': ['id',\n",
       "   'magna',\n",
       "   'excepteur',\n",
       "   'excepteur',\n",
       "   'excepteur',\n",
       "   'duis',\n",
       "   'excepteur'],\n",
       "  'friends': [{'id': 0, 'name': 'Herrera Doyle'},\n",
       "   {'id': 1, 'name': 'Berger Fisher'},\n",
       "   {'id': 2, 'name': 'Chang Coffey'}],\n",
       "  'greeting': 'Hello, Madeleine Bray! You have 2 unread messages.',\n",
       "  'favoriteFruit': 'strawberry'},\n",
       " {'_id': '54e23c3ebd80e9c26b057fa3',\n",
       "  'index': 9,\n",
       "  'guid': '75991ca5-05ed-499e-bbb5-f057f86d05d7',\n",
       "  'isActive': True,\n",
       "  'balance': '$2,839.22',\n",
       "  'picture': 'http://placehold.it/32x32',\n",
       "  'age': 37,\n",
       "  'eyeColor': 'blue',\n",
       "  'name': 'Corine French',\n",
       "  'gender': 'female',\n",
       "  'company': 'INTRAWEAR',\n",
       "  'email': 'corinefrench@intrawear.com',\n",
       "  'phone': '+1 (987) 573-3164',\n",
       "  'address': '964 Clara Street, Snyderville, Oklahoma, 3627',\n",
       "  'about': 'Sint cillum laborum labore duis fugiat voluptate adipisicing. Ad culpa et et ea incididunt nulla excepteur officia. Cillum veniam amet ipsum reprehenderit do eiusmod aliqua aute nisi Lorem consectetur esse in incididunt.\\r\\n',\n",
       "  'registered': '2014-06-25T20:17:13 +05:00',\n",
       "  'latitude': -37.637422,\n",
       "  'longitude': 154.195523,\n",
       "  'tags': ['laboris',\n",
       "   'in',\n",
       "   'dolore',\n",
       "   'mollit',\n",
       "   'velit',\n",
       "   'laboris',\n",
       "   'excepteur'],\n",
       "  'friends': [{'id': 0, 'name': 'Greta Hill'},\n",
       "   {'id': 1, 'name': 'Cline Curry'},\n",
       "   {'id': 2, 'name': 'Branch Sawyer'}],\n",
       "  'greeting': 'Hello, Corine French! You have 18 unread messages.',\n",
       "  'favoriteFruit': 'banana'},\n",
       " {'_id': '54e23c3e6d89c09f5507e7dd',\n",
       "  'index': 10,\n",
       "  'guid': '87cffc18-3acf-40c5-8708-1bb93f1b68de',\n",
       "  'isActive': True,\n",
       "  'balance': '$2,467.31',\n",
       "  'picture': 'http://placehold.it/32x32',\n",
       "  'age': 29,\n",
       "  'eyeColor': 'blue',\n",
       "  'name': 'Trudy Cummings',\n",
       "  'gender': 'female',\n",
       "  'company': 'SPLINX',\n",
       "  'email': 'trudycummings@splinx.com',\n",
       "  'phone': '+1 (925) 403-2797',\n",
       "  'address': '558 Charles Place, Tedrow, California, 9832',\n",
       "  'about': 'Non id adipisicing deserunt non magna ex adipisicing sint esse sint. Laborum ea nostrud Lorem voluptate quis proident eu nisi exercitation in. Consequat occaecat proident officia anim.\\r\\n',\n",
       "  'registered': '2014-03-13T17:54:31 +05:00',\n",
       "  'latitude': -36.185131,\n",
       "  'longitude': -37.774906,\n",
       "  'tags': ['aute', 'occaecat', 'ea', 'pariatur', 'consectetur', 'magna', 'ea'],\n",
       "  'friends': [{'id': 0, 'name': 'Amber Gates'},\n",
       "   {'id': 1, 'name': 'Barron Walsh'},\n",
       "   {'id': 2, 'name': 'Nell Bolton'}],\n",
       "  'greeting': 'Hello, Trudy Cummings! You have 2 unread messages.',\n",
       "  'favoriteFruit': 'strawberry'},\n",
       " {'_id': '54e23c3e4192cf53edd67c99',\n",
       "  'index': 11,\n",
       "  'guid': '5a5496f1-a027-4c21-85da-c399234cd9a5',\n",
       "  'isActive': True,\n",
       "  'balance': '$3,304.99',\n",
       "  'picture': 'http://placehold.it/32x32',\n",
       "  'age': 21,\n",
       "  'eyeColor': 'brown',\n",
       "  'name': 'Peggy Mayer',\n",
       "  'gender': 'female',\n",
       "  'company': 'ACCUPRINT',\n",
       "  'email': 'peggymayer@accuprint.com',\n",
       "  'phone': '+1 (854) 428-2585',\n",
       "  'address': '830 Willmohr Street, Crenshaw, Missouri, 6032',\n",
       "  'about': 'Aliqua sit enim cillum aliquip ad proident excepteur in consectetur eiusmod. Ipsum sint cillum veniam eiusmod aute sunt et do est tempor. Lorem elit dolor dolore incididunt cillum. Enim occaecat minim sunt cillum est velit cillum deserunt tempor eu.\\r\\n',\n",
       "  'registered': '2014-09-14T07:06:49 +05:00',\n",
       "  'latitude': 48.323912,\n",
       "  'longitude': 22.184821,\n",
       "  'tags': ['commodo', 'esse', 'ad', 'ullamco', 'ea', 'sint', 'ipsum'],\n",
       "  'friends': [{'id': 0, 'name': 'Hopkins Mccall'},\n",
       "   {'id': 1, 'name': 'Nielsen Weeks'},\n",
       "   {'id': 2, 'name': 'Dale Knowles'}],\n",
       "  'greeting': 'Hello, Peggy Mayer! You have 13 unread messages.',\n",
       "  'favoriteFruit': 'strawberry'},\n",
       " {'_id': '54e23c3eedcc65f0ec3a5496',\n",
       "  'index': 12,\n",
       "  'guid': '759a21c4-5f9c-4189-9c50-c9d8a9f31037',\n",
       "  'isActive': False,\n",
       "  'balance': '$3,844.42',\n",
       "  'picture': 'http://placehold.it/32x32',\n",
       "  'age': 40,\n",
       "  'eyeColor': 'brown',\n",
       "  'name': 'Chan Hurley',\n",
       "  'gender': 'male',\n",
       "  'company': 'ZEAM',\n",
       "  'email': 'chanhurley@zeam.com',\n",
       "  'phone': '+1 (917) 475-3705',\n",
       "  'address': '915 Channel Avenue, Clinton, North Dakota, 6244',\n",
       "  'about': 'Voluptate exercitation ut anim ex adipisicing ut do officia incididunt fugiat cupidatat aliqua. Cillum ullamco irure dolore est consectetur non consequat. Nulla ullamco eu irure qui dolor magna ipsum id in enim voluptate aute. Officia aliqua dolore ut reprehenderit Lorem cillum. Cillum reprehenderit eu cillum aliqua sint eiusmod cupidatat culpa elit in. Fugiat voluptate reprehenderit amet anim qui nisi velit aliqua proident anim.\\r\\n',\n",
       "  'registered': '2014-03-01T14:51:23 +06:00',\n",
       "  'latitude': 85.901051,\n",
       "  'longitude': -74.986179,\n",
       "  'tags': ['minim', 'veniam', 'sit', 'aute', 'irure', 'non', 'eiusmod'],\n",
       "  'friends': [{'id': 0, 'name': 'Reese Grant'},\n",
       "   {'id': 1, 'name': 'Jenna Kinney'},\n",
       "   {'id': 2, 'name': 'Rhea May'}],\n",
       "  'greeting': 'Hello, Chan Hurley! You have 7 unread messages.',\n",
       "  'favoriteFruit': 'apple'},\n",
       " {'_id': '54e23c3eb813e66c6d33aa82',\n",
       "  'index': 13,\n",
       "  'guid': '6fd14a8e-3158-48eb-a7e1-93fe57b74746',\n",
       "  'isActive': True,\n",
       "  'balance': '$3,594.99',\n",
       "  'picture': 'http://placehold.it/32x32',\n",
       "  'age': 40,\n",
       "  'eyeColor': 'blue',\n",
       "  'name': 'Diaz Pena',\n",
       "  'gender': 'male',\n",
       "  'company': 'SUREPLEX',\n",
       "  'email': 'diazpena@sureplex.com',\n",
       "  'phone': '+1 (986) 511-3050',\n",
       "  'address': '184 Kingsway Place, Grantville, Michigan, 2421',\n",
       "  'about': 'Enim elit amet officia consectetur do Lorem reprehenderit cupidatat exercitation velit. Ex tempor esse consectetur dolore aute et. Cupidatat duis nulla in incididunt nulla ullamco non magna officia commodo anim. Labore quis ullamco est deserunt excepteur duis nostrud deserunt cillum proident. Non eiusmod consectetur pariatur deserunt irure quis exercitation ex incididunt quis dolore pariatur sunt irure. Eu do fugiat laboris tempor culpa.\\r\\n',\n",
       "  'registered': '2014-04-19T20:43:12 +05:00',\n",
       "  'latitude': 6.606991,\n",
       "  'longitude': 81.593748,\n",
       "  'tags': ['excepteur',\n",
       "   'elit',\n",
       "   'ullamco',\n",
       "   'excepteur',\n",
       "   'ad',\n",
       "   'quis',\n",
       "   'dolore'],\n",
       "  'friends': [{'id': 0, 'name': 'Mcmillan Knox'},\n",
       "   {'id': 1, 'name': 'Flossie Dixon'},\n",
       "   {'id': 2, 'name': 'Sears Carson'}],\n",
       "  'greeting': 'Hello, Diaz Pena! You have 13 unread messages.',\n",
       "  'favoriteFruit': 'strawberry'},\n",
       " {'_id': '54e23c3e502a2f526b689c3e',\n",
       "  'index': 14,\n",
       "  'guid': '459cc82d-7878-42cb-b9c6-073506380036',\n",
       "  'isActive': True,\n",
       "  'balance': '$2,940.24',\n",
       "  'picture': 'http://placehold.it/32x32',\n",
       "  'age': 40,\n",
       "  'eyeColor': 'brown',\n",
       "  'name': 'Heath Castaneda',\n",
       "  'gender': 'male',\n",
       "  'company': 'NETPLODE',\n",
       "  'email': 'heathcastaneda@netplode.com',\n",
       "  'phone': '+1 (944) 478-3741',\n",
       "  'address': '278 Village Road, Sunnyside, Massachusetts, 7496',\n",
       "  'about': 'Consectetur mollit cupidatat ex consectetur eiusmod ut. Cupidatat anim cupidatat cupidatat minim ipsum et quis amet proident pariatur. Do consectetur fugiat quis nisi non. Ut eu consequat consequat in ullamco eiusmod quis cillum sunt dolore anim. Non irure aliqua aliqua enim elit labore consequat.\\r\\n',\n",
       "  'registered': '2014-07-30T21:38:43 +05:00',\n",
       "  'latitude': 69.928876,\n",
       "  'longitude': 33.649878,\n",
       "  'tags': ['elit', 'commodo', 'ut', 'ullamco', 'ullamco', 'velit', 'ullamco'],\n",
       "  'friends': [{'id': 0, 'name': 'Dora Mack'},\n",
       "   {'id': 1, 'name': 'Christensen Camacho'},\n",
       "   {'id': 2, 'name': 'Castro Kelly'}],\n",
       "  'greeting': 'Hello, Heath Castaneda! You have 12 unread messages.',\n",
       "  'favoriteFruit': 'strawberry'},\n",
       " {'_id': '54e23c3e69d22e49c7fe62de',\n",
       "  'index': 15,\n",
       "  'guid': '33d2bbe5-d6f7-4844-88fc-b9f6af63b373',\n",
       "  'isActive': False,\n",
       "  'balance': '$3,062.41',\n",
       "  'picture': 'http://placehold.it/32x32',\n",
       "  'age': 38,\n",
       "  'eyeColor': 'brown',\n",
       "  'name': 'Greer Blankenship',\n",
       "  'gender': 'male',\n",
       "  'company': 'QUALITERN',\n",
       "  'email': 'greerblankenship@qualitern.com',\n",
       "  'phone': '+1 (957) 482-3874',\n",
       "  'address': '557 Ingraham Street, Brambleton, South Dakota, 8482',\n",
       "  'about': 'Non in excepteur nostrud consectetur. Qui non consectetur officia incididunt elit laboris exercitation exercitation est minim veniam ullamco dolore. Eu sit aute culpa ex sunt amet. Ut et amet Lorem sunt anim pariatur.\\r\\n',\n",
       "  'registered': '2014-03-30T21:39:41 +05:00',\n",
       "  'latitude': -71.093388,\n",
       "  'longitude': 65.740255,\n",
       "  'tags': ['enim',\n",
       "   'eiusmod',\n",
       "   'Lorem',\n",
       "   'reprehenderit',\n",
       "   'nisi',\n",
       "   'anim',\n",
       "   'sunt'],\n",
       "  'friends': [{'id': 0, 'name': 'Woods Norman'},\n",
       "   {'id': 1, 'name': 'Marilyn Haney'},\n",
       "   {'id': 2, 'name': 'Webster Nielsen'}],\n",
       "  'greeting': 'Hello, Greer Blankenship! You have 7 unread messages.',\n",
       "  'favoriteFruit': 'banana'},\n",
       " {'_id': '54e23c3e42676228c442a669',\n",
       "  'index': 16,\n",
       "  'guid': 'e44604f0-c7a8-4b89-bda3-0f4710ebe28a',\n",
       "  'isActive': False,\n",
       "  'balance': '$3,067.82',\n",
       "  'picture': 'http://placehold.it/32x32',\n",
       "  'age': 32,\n",
       "  'eyeColor': 'green',\n",
       "  'name': 'Coffey Hayes',\n",
       "  'gender': 'male',\n",
       "  'company': 'INQUALA',\n",
       "  'email': 'coffeyhayes@inquala.com',\n",
       "  'phone': '+1 (880) 451-3490',\n",
       "  'address': '490 Durland Place, Craig, Tennessee, 5034',\n",
       "  'about': 'Est esse irure Lorem ullamco veniam fugiat laborum veniam excepteur. Ad enim pariatur nostrud excepteur et nostrud velit dolore ex enim cillum in aliquip fugiat. Nulla laborum exercitation irure magna elit laborum magna ad excepteur. Cillum pariatur Lorem eiusmod ad dolore eiusmod veniam do minim laborum in dolor. Reprehenderit elit ad id voluptate Lorem Lorem dolor cupidatat excepteur. Proident minim ea aute nulla.\\r\\n',\n",
       "  'registered': '2014-04-01T23:04:39 +05:00',\n",
       "  'latitude': -30.662644,\n",
       "  'longitude': 59.806684,\n",
       "  'tags': ['duis', 'est', 'in', 'officia', 'nostrud', 'occaecat', 'mollit'],\n",
       "  'friends': [{'id': 0, 'name': 'Suarez Perry'},\n",
       "   {'id': 1, 'name': 'Marlene Sheppard'},\n",
       "   {'id': 2, 'name': 'Cohen Yates'}],\n",
       "  'greeting': 'Hello, Coffey Hayes! You have 19 unread messages.',\n",
       "  'favoriteFruit': 'strawberry'},\n",
       " {'_id': '54e23c3e4ac5969958013235',\n",
       "  'index': 17,\n",
       "  'guid': 'fa7e26df-d239-41e8-9aa9-be5e808b6f89',\n",
       "  'isActive': True,\n",
       "  'balance': '$2,646.76',\n",
       "  'picture': 'http://placehold.it/32x32',\n",
       "  'age': 24,\n",
       "  'eyeColor': 'brown',\n",
       "  'name': 'Leanne Hurst',\n",
       "  'gender': 'female',\n",
       "  'company': 'ACCIDENCY',\n",
       "  'email': 'leannehurst@accidency.com',\n",
       "  'phone': '+1 (820) 420-3317',\n",
       "  'address': '196 Columbus Place, Carbonville, New Jersey, 7513',\n",
       "  'about': 'Dolor occaecat dolore ut tempor. Veniam elit anim duis do pariatur. Qui excepteur nisi eiusmod mollit laboris fugiat commodo ipsum reprehenderit labore cillum. Aliquip laborum commodo nisi cupidatat labore nostrud exercitation adipisicing mollit eu magna proident ex Lorem. Nostrud magna sint sint consequat consectetur et sint.\\r\\n',\n",
       "  'registered': '2014-11-10T01:25:55 +06:00',\n",
       "  'latitude': 16.671695,\n",
       "  'longitude': 139.707959,\n",
       "  'tags': ['culpa',\n",
       "   'deserunt',\n",
       "   'tempor',\n",
       "   'quis',\n",
       "   'reprehenderit',\n",
       "   'incididunt',\n",
       "   'est'],\n",
       "  'friends': [{'id': 0, 'name': 'Farley Frank'},\n",
       "   {'id': 1, 'name': 'Pruitt Frye'},\n",
       "   {'id': 2, 'name': 'Simpson Cardenas'}],\n",
       "  'greeting': 'Hello, Leanne Hurst! You have 5 unread messages.',\n",
       "  'favoriteFruit': 'banana'},\n",
       " {'_id': '54e23c3ed945981ba2580614',\n",
       "  'index': 18,\n",
       "  'guid': 'e608dc5c-fee4-4086-971b-3ebd37bfa137',\n",
       "  'isActive': True,\n",
       "  'balance': '$2,227.79',\n",
       "  'picture': 'http://placehold.it/32x32',\n",
       "  'age': 22,\n",
       "  'eyeColor': 'brown',\n",
       "  'name': 'Ewing Larson',\n",
       "  'gender': 'male',\n",
       "  'company': 'ESCENTA',\n",
       "  'email': 'ewinglarson@escenta.com',\n",
       "  'phone': '+1 (943) 439-3760',\n",
       "  'address': '136 Beard Street, Wattsville, New Hampshire, 2803',\n",
       "  'about': 'Veniam eiusmod exercitation culpa mollit reprehenderit ullamco voluptate voluptate irure qui duis anim et. Laborum dolor quis do voluptate. In pariatur dolor id mollit et enim. Qui ex qui in cillum irure enim non reprehenderit irure et excepteur aliquip eu eu.\\r\\n',\n",
       "  'registered': '2014-07-21T19:17:41 +05:00',\n",
       "  'latitude': 15.903555,\n",
       "  'longitude': -159.721203,\n",
       "  'tags': ['Lorem',\n",
       "   'magna',\n",
       "   'dolor',\n",
       "   'aliquip',\n",
       "   'reprehenderit',\n",
       "   'eu',\n",
       "   'voluptate'],\n",
       "  'friends': [{'id': 0, 'name': 'Suzette Huffman'},\n",
       "   {'id': 1, 'name': 'Paige Santiago'},\n",
       "   {'id': 2, 'name': 'Dollie Fernandez'}],\n",
       "  'greeting': 'Hello, Ewing Larson! You have 16 unread messages.',\n",
       "  'favoriteFruit': 'strawberry'}]"
      ]
     },
     "execution_count": 143,
     "metadata": {},
     "output_type": "execute_result"
    }
   ],
   "source": [
    "data"
   ]
  },
  {
   "cell_type": "code",
   "execution_count": 127,
   "id": "6982e9cb",
   "metadata": {
    "scrolled": true
   },
   "outputs": [
    {
     "name": "stdout",
     "output_type": "stream",
     "text": [
      "_id\n",
      "index\n",
      "guid\n",
      "isActive\n",
      "balance\n",
      "picture\n",
      "age\n",
      "eyeColor\n",
      "name\n",
      "gender\n",
      "company\n",
      "email\n",
      "phone\n",
      "address\n",
      "about\n",
      "registered\n",
      "latitude\n",
      "longitude\n",
      "tags\n",
      "friends\n",
      "greeting\n",
      "favoriteFruit\n"
     ]
    }
   ],
   "source": [
    "for i in data[1]:\n",
    "    if i in :\n",
    "        print(i)\n",
    "        "
   ]
  },
  {
   "cell_type": "code",
   "execution_count": 159,
   "id": "68257ffb",
   "metadata": {
    "scrolled": false
   },
   "outputs": [
    {
     "name": "stdout",
     "output_type": "stream",
     "text": [
      "{'_id': '54e23c3e46ab53a440b580e8', 'index': 0, 'guid': '9962b468-ef3e-4993-b677-617469bc3008', 'isActive': False, 'balance': 2097.02, 'picture': 'http://placehold.it/32x32', 'age': 39, 'eyeColor': 'blue', 'name': 'Hebert Estes', 'gender': 'male', 'company': 'ANDRYX', 'email': 'hebertestes@andryx.com', 'phone': '+1 (866) 456-2268', 'address': '121 Emmons Avenue, Klondike, Kentucky, 5975', 'about': 'Sit cillum deserunt irure laboris tempor fugiat laboris. Amet commodo amet est incididunt. Dolore qui fugiat cillum pariatur dolore excepteur elit ipsum.\\r\\n', 'registered': '2014-11-10T01:44:03 +06:00', 'latitude': -80.157843, 'longitude': 161.93016, 'tags': ['sit', 'occaecat', 'non', 'ea', 'sit', 'laboris', 'exercitation'], 'friends': [{'id': 0, 'name': 'Tanisha Leonard'}, {'id': 1, 'name': 'Dennis Wilson'}, {'id': 2, 'name': 'Lupe Howe'}], 'greeting': 'Hello, Hebert Estes! You have 4 unread messages.', 'favoriteFruit': 'strawberry'}\n",
      "----------------------------------------------------------------- \n",
      "\n",
      "{'_id': '54e23c3ef5cc0d250968c212', 'index': 1, 'guid': '905f849d-49bf-4a57-b4f3-5d6e4bf1b04c', 'isActive': False, 'balance': 3654.02, 'picture': 'http://placehold.it/32x32', 'age': 30, 'eyeColor': 'green', 'name': 'Allison Wynn', 'gender': 'male', 'company': 'PHARMACON', 'email': 'allisonwynn@pharmacon.com', 'phone': '+1 (926) 525-3131', 'address': '724 Brevoort Place, Lodoga, Indiana, 3880', 'about': 'Esse quis cillum sunt occaecat ad et eu incididunt aliquip dolor. Adipisicing labore magna anim cillum nisi. Elit mollit consequat velit nulla cillum excepteur elit ullamco deserunt. Anim aliquip Lorem excepteur ad veniam et labore in qui ullamco. Occaecat sit do incididunt voluptate id magna ea amet.\\r\\n', 'registered': '2014-06-10T13:41:26 +05:00', 'latitude': 55.737207, 'longitude': -167.177561, 'tags': ['enim', 'officia', 'laboris', 'irure', 'veniam', 'occaecat', 'pariatur'], 'friends': [{'id': 0, 'name': 'Curry Cox'}, {'id': 1, 'name': 'Alma Dale'}, {'id': 2, 'name': 'Barbara Mayo'}], 'greeting': 'Hello, Allison Wynn! You have 19 unread messages.', 'favoriteFruit': 'apple'}\n",
      "----------------------------------------------------------------- \n",
      "\n",
      "{'_id': '54e23c3e09cc6875638cd36b', 'index': 2, 'guid': '1b042d48-9cfa-4db5-8b60-4104165591c3', 'isActive': True, 'balance': 1536.02, 'picture': 'http://placehold.it/32x32', 'age': 31, 'eyeColor': 'brown', 'name': 'Jacobs Floyd', 'gender': 'male', 'company': 'QUONK', 'email': 'jacobsfloyd@quonk.com', 'phone': '+1 (853) 537-3315', 'address': '941 Cox Place, Bluffview, Georgia, 5882', 'about': 'Deserunt adipisicing proident exercitation cillum anim consectetur labore exercitation. Commodo reprehenderit laborum enim exercitation. Ullamco nulla culpa aliqua nisi fugiat consectetur deserunt nostrud in eu.\\r\\n', 'registered': '2014-07-30T03:17:32 +05:00', 'latitude': 30.215667, 'longitude': 68.831905, 'tags': ['est', 'aute', 'laborum', 'sint', 'anim', 'sit', 'consectetur'], 'friends': [{'id': 0, 'name': 'Robles Chan'}, {'id': 1, 'name': 'Whitfield Strickland'}, {'id': 2, 'name': 'Lina Melton'}], 'greeting': 'Hello, Jacobs Floyd! You have 5 unread messages.', 'favoriteFruit': 'banana'}\n",
      "----------------------------------------------------------------- \n",
      "\n",
      "{'_id': '54e23c3e54e4094147a3b1da', 'index': 3, 'guid': '69eb3454-8acc-46f1-a636-c6df00dfb542', 'isActive': False, 'balance': 3919.64, 'picture': 'http://placehold.it/32x32', 'age': 20, 'eyeColor': 'green', 'name': 'Fay Hammond', 'gender': 'female', 'company': 'INRT', 'email': 'fayhammond@inrt.com', 'phone': '+1 (922) 429-2592', 'address': '518 Randolph Street, Whitestone, Arizona, 8189', 'about': 'Aliqua sunt exercitation quis cupidatat fugiat nulla laboris occaecat ut reprehenderit qui incididunt. Amet excepteur qui amet mollit sint enim velit est dolor eu. Velit labore ea aute ipsum consequat culpa cupidatat excepteur aliqua. Sit commodo id est deserunt commodo. Labore sit deserunt enim in dolore incididunt. Officia qui est veniam cillum consequat minim duis Lorem esse magna culpa cupidatat cupidatat enim. Amet eiusmod elit qui reprehenderit commodo quis.\\r\\n', 'registered': '2015-01-30T08:05:38 +06:00', 'latitude': 33.825844, 'longitude': -65.969538, 'tags': ['aliqua', 'esse', 'sint', 'pariatur', 'commodo', 'do', 'anim'], 'friends': [{'id': 0, 'name': 'Dudley Booker'}, {'id': 1, 'name': 'Esmeralda Tyler'}, {'id': 2, 'name': 'Rosa Hampton'}], 'greeting': 'Hello, Fay Hammond! You have 10 unread messages.', 'favoriteFruit': 'banana'}\n",
      "----------------------------------------------------------------- \n",
      "\n",
      "{'_id': '54e23c3e177caf5567ba87ac', 'index': 4, 'guid': '97962c85-7700-4ffa-a01e-2fcbc147fd81', 'isActive': False, 'balance': 3681.39, 'picture': 'http://placehold.it/32x32', 'age': 39, 'eyeColor': 'green', 'name': 'Chasity Marsh', 'gender': 'female', 'company': 'WAZZU', 'email': 'chasitymarsh@wazzu.com', 'phone': '+1 (976) 425-2362', 'address': '604 Just Court, Eastvale, Federated States Of Micronesia, 8644', 'about': 'Irure excepteur consequat esse qui tempor deserunt nulla fugiat. Ut excepteur do veniam dolore dolor proident sunt voluptate ad ipsum nisi. Lorem proident deserunt Lorem cupidatat dolor nulla qui id aliqua. Et nulla laborum deserunt tempor ad culpa. Ullamco occaecat adipisicing dolore laborum laborum duis aliqua nisi irure ex. Incididunt tempor Lorem quis dolore.\\r\\n', 'registered': '2014-07-31T06:03:19 +05:00', 'latitude': -31.660978, 'longitude': 37.559095, 'tags': ['aliquip', 'duis', 'irure', 'amet', 'aliquip', 'dolore', 'esse'], 'friends': [{'id': 0, 'name': 'Kristina Glover'}, {'id': 1, 'name': 'Ora Christian'}, {'id': 2, 'name': 'Jacklyn Joseph'}], 'greeting': 'Hello, Chasity Marsh! You have 9 unread messages.', 'favoriteFruit': 'apple'}\n",
      "----------------------------------------------------------------- \n",
      "\n",
      "{'_id': '54e23c3eaffbb506aa15ec1c', 'index': 5, 'guid': 'fc3e04d1-44c2-449e-891a-d4f8053d14a4', 'isActive': True, 'balance': 1694.42, 'picture': 'http://placehold.it/32x32', 'age': 30, 'eyeColor': 'brown', 'name': 'Camacho Cortez', 'gender': 'male', 'company': 'EARTHWAX', 'email': 'camachocortez@earthwax.com', 'phone': '+1 (869) 528-2019', 'address': '101 Haring Street, Nicut, Louisiana, 1473', 'about': 'Qui ad commodo elit voluptate cupidatat exercitation amet ea laborum sunt aliquip nisi irure. Veniam voluptate eiusmod sint aliquip ea. Voluptate voluptate Lorem nulla laborum eiusmod occaecat et nostrud sint in cillum reprehenderit magna nulla. Lorem id fugiat laborum qui mollit amet. Culpa officia ipsum nisi culpa in. Fugiat quis eu cupidatat non culpa in ea velit pariatur non in excepteur.\\r\\n', 'registered': '2014-03-17T12:04:00 +05:00', 'latitude': 74.434627, 'longitude': 69.527088, 'tags': ['et', 'sit', 'in', 'id', 'ullamco', 'elit', 'laborum'], 'friends': [{'id': 0, 'name': 'Sexton Tillman'}, {'id': 1, 'name': 'Boone Steele'}, {'id': 2, 'name': 'Elvia Ward'}], 'greeting': 'Hello, Camacho Cortez! You have 19 unread messages.', 'favoriteFruit': 'apple'}\n",
      "----------------------------------------------------------------- \n",
      "\n",
      "{'_id': '54e23c3e0fd8074c2ca52667', 'index': 6, 'guid': 'af8d9a03-fde9-4039-b20c-c4708d4cfc3c', 'isActive': False, 'balance': 1214.1, 'picture': 'http://placehold.it/32x32', 'age': 35, 'eyeColor': 'green', 'name': 'Avery Flynn', 'gender': 'male', 'company': 'TERSANKI', 'email': 'averyflynn@tersanki.com', 'phone': '+1 (966) 404-2471', 'address': '569 Oakland Place, Beyerville, Puerto Rico, 2395', 'about': 'Minim consequat anim ad et tempor et pariatur cillum ut. Ea Lorem consectetur sunt aliquip ea minim minim id dolore incididunt qui magna. Magna velit labore dolore voluptate ut aliquip esse qui est ipsum cupidatat duis enim. Sunt esse eiusmod cupidatat duis quis sunt anim dolore adipisicing enim dolore aliqua mollit. Commodo sit ad eiusmod reprehenderit.\\r\\n', 'registered': '2014-04-13T10:25:03 +05:00', 'latitude': -89.879409, 'longitude': 143.441709, 'tags': ['quis', 'esse', 'Lorem', 'minim', 'nostrud', 'voluptate', 'laborum'], 'friends': [{'id': 0, 'name': 'Ball Henson'}, {'id': 1, 'name': 'Dalton Mccoy'}, {'id': 2, 'name': 'Carolina Sharp'}], 'greeting': 'Hello, Avery Flynn! You have 13 unread messages.', 'favoriteFruit': 'banana'}\n",
      "----------------------------------------------------------------- \n",
      "\n",
      "{'_id': '54e23c3eb112d96e4204914d', 'index': 7, 'guid': '95f1c020-f9eb-4a29-b236-e766759d89d0', 'isActive': False, 'balance': 2930.31, 'picture': 'http://placehold.it/32x32', 'age': 23, 'eyeColor': 'blue', 'name': 'Michael Cash', 'gender': 'male', 'company': 'ORBIXTAR', 'email': 'michaelcash@orbixtar.com', 'phone': '+1 (996) 439-3660', 'address': '808 Duryea Court, Downsville, Northern Mariana Islands, 2154', 'about': 'Minim proident minim consectetur nostrud dolor reprehenderit. Ea est proident non do cillum eu est dolor Lorem id. Tempor enim incididunt consequat voluptate nulla ipsum voluptate id. Incididunt enim laboris nostrud in exercitation est culpa nulla velit.\\r\\n', 'registered': '2014-05-24T17:56:54 +05:00', 'latitude': -86.621367, 'longitude': -4.06197, 'tags': ['eu', 'sit', 'dolore', 'culpa', 'Lorem', 'in', 'esse'], 'friends': [{'id': 0, 'name': 'Rodgers Nolan'}, {'id': 1, 'name': 'Jewel Marks'}, {'id': 2, 'name': 'Sue Mejia'}], 'greeting': 'Hello, Michael Cash! You have 17 unread messages.', 'favoriteFruit': 'strawberry'}\n",
      "----------------------------------------------------------------- \n",
      "\n",
      "{'_id': '54e23c3ef30f14d0e5afddf3', 'index': 8, 'guid': 'bde2d56f-2488-40d0-a7d2-21019ee8a18b', 'isActive': False, 'balance': 1944.15, 'picture': 'http://placehold.it/32x32', 'age': 25, 'eyeColor': 'green', 'name': 'Madeleine Bray', 'gender': 'female', 'company': 'KIDSTOCK', 'email': 'madeleinebray@kidstock.com', 'phone': '+1 (820) 541-2969', 'address': '684 Stratford Road, Rosine, District Of Columbia, 7177', 'about': 'Ullamco ea esse ullamco commodo quis amet ut ad. Sint eiusmod ullamco minim nostrud amet in ex adipisicing velit cillum Lorem enim nostrud. Deserunt esse incididunt eiusmod commodo ullamco id pariatur tempor duis laboris Lorem. Laboris magna Lorem quis laborum ullamco. Dolor minim magna ut occaecat in consequat consequat in commodo pariatur voluptate pariatur dolore. Quis exercitation cillum labore cillum laborum. Dolore est reprehenderit anim reprehenderit consectetur sit quis ea ut veniam.\\r\\n', 'registered': '2014-08-11T08:54:06 +05:00', 'latitude': 45.118798, 'longitude': -7.698707, 'tags': ['id', 'magna', 'excepteur', 'excepteur', 'excepteur', 'duis', 'excepteur'], 'friends': [{'id': 0, 'name': 'Herrera Doyle'}, {'id': 1, 'name': 'Berger Fisher'}, {'id': 2, 'name': 'Chang Coffey'}], 'greeting': 'Hello, Madeleine Bray! You have 2 unread messages.', 'favoriteFruit': 'strawberry'}\n",
      "----------------------------------------------------------------- \n",
      "\n",
      "{'_id': '54e23c3ebd80e9c26b057fa3', 'index': 9, 'guid': '75991ca5-05ed-499e-bbb5-f057f86d05d7', 'isActive': True, 'balance': 2839.22, 'picture': 'http://placehold.it/32x32', 'age': 37, 'eyeColor': 'blue', 'name': 'Corine French', 'gender': 'female', 'company': 'INTRAWEAR', 'email': 'corinefrench@intrawear.com', 'phone': '+1 (987) 573-3164', 'address': '964 Clara Street, Snyderville, Oklahoma, 3627', 'about': 'Sint cillum laborum labore duis fugiat voluptate adipisicing. Ad culpa et et ea incididunt nulla excepteur officia. Cillum veniam amet ipsum reprehenderit do eiusmod aliqua aute nisi Lorem consectetur esse in incididunt.\\r\\n', 'registered': '2014-06-25T20:17:13 +05:00', 'latitude': -37.637422, 'longitude': 154.195523, 'tags': ['laboris', 'in', 'dolore', 'mollit', 'velit', 'laboris', 'excepteur'], 'friends': [{'id': 0, 'name': 'Greta Hill'}, {'id': 1, 'name': 'Cline Curry'}, {'id': 2, 'name': 'Branch Sawyer'}], 'greeting': 'Hello, Corine French! You have 18 unread messages.', 'favoriteFruit': 'banana'}\n",
      "----------------------------------------------------------------- \n",
      "\n",
      "{'_id': '54e23c3e6d89c09f5507e7dd', 'index': 10, 'guid': '87cffc18-3acf-40c5-8708-1bb93f1b68de', 'isActive': True, 'balance': 2467.31, 'picture': 'http://placehold.it/32x32', 'age': 29, 'eyeColor': 'blue', 'name': 'Trudy Cummings', 'gender': 'female', 'company': 'SPLINX', 'email': 'trudycummings@splinx.com', 'phone': '+1 (925) 403-2797', 'address': '558 Charles Place, Tedrow, California, 9832', 'about': 'Non id adipisicing deserunt non magna ex adipisicing sint esse sint. Laborum ea nostrud Lorem voluptate quis proident eu nisi exercitation in. Consequat occaecat proident officia anim.\\r\\n', 'registered': '2014-03-13T17:54:31 +05:00', 'latitude': -36.185131, 'longitude': -37.774906, 'tags': ['aute', 'occaecat', 'ea', 'pariatur', 'consectetur', 'magna', 'ea'], 'friends': [{'id': 0, 'name': 'Amber Gates'}, {'id': 1, 'name': 'Barron Walsh'}, {'id': 2, 'name': 'Nell Bolton'}], 'greeting': 'Hello, Trudy Cummings! You have 2 unread messages.', 'favoriteFruit': 'strawberry'}\n",
      "----------------------------------------------------------------- \n",
      "\n",
      "{'_id': '54e23c3e4192cf53edd67c99', 'index': 11, 'guid': '5a5496f1-a027-4c21-85da-c399234cd9a5', 'isActive': True, 'balance': 3304.99, 'picture': 'http://placehold.it/32x32', 'age': 21, 'eyeColor': 'brown', 'name': 'Peggy Mayer', 'gender': 'female', 'company': 'ACCUPRINT', 'email': 'peggymayer@accuprint.com', 'phone': '+1 (854) 428-2585', 'address': '830 Willmohr Street, Crenshaw, Missouri, 6032', 'about': 'Aliqua sit enim cillum aliquip ad proident excepteur in consectetur eiusmod. Ipsum sint cillum veniam eiusmod aute sunt et do est tempor. Lorem elit dolor dolore incididunt cillum. Enim occaecat minim sunt cillum est velit cillum deserunt tempor eu.\\r\\n', 'registered': '2014-09-14T07:06:49 +05:00', 'latitude': 48.323912, 'longitude': 22.184821, 'tags': ['commodo', 'esse', 'ad', 'ullamco', 'ea', 'sint', 'ipsum'], 'friends': [{'id': 0, 'name': 'Hopkins Mccall'}, {'id': 1, 'name': 'Nielsen Weeks'}, {'id': 2, 'name': 'Dale Knowles'}], 'greeting': 'Hello, Peggy Mayer! You have 13 unread messages.', 'favoriteFruit': 'strawberry'}\n",
      "----------------------------------------------------------------- \n",
      "\n",
      "{'_id': '54e23c3eedcc65f0ec3a5496', 'index': 12, 'guid': '759a21c4-5f9c-4189-9c50-c9d8a9f31037', 'isActive': False, 'balance': 3844.42, 'picture': 'http://placehold.it/32x32', 'age': 40, 'eyeColor': 'brown', 'name': 'Chan Hurley', 'gender': 'male', 'company': 'ZEAM', 'email': 'chanhurley@zeam.com', 'phone': '+1 (917) 475-3705', 'address': '915 Channel Avenue, Clinton, North Dakota, 6244', 'about': 'Voluptate exercitation ut anim ex adipisicing ut do officia incididunt fugiat cupidatat aliqua. Cillum ullamco irure dolore est consectetur non consequat. Nulla ullamco eu irure qui dolor magna ipsum id in enim voluptate aute. Officia aliqua dolore ut reprehenderit Lorem cillum. Cillum reprehenderit eu cillum aliqua sint eiusmod cupidatat culpa elit in. Fugiat voluptate reprehenderit amet anim qui nisi velit aliqua proident anim.\\r\\n', 'registered': '2014-03-01T14:51:23 +06:00', 'latitude': 85.901051, 'longitude': -74.986179, 'tags': ['minim', 'veniam', 'sit', 'aute', 'irure', 'non', 'eiusmod'], 'friends': [{'id': 0, 'name': 'Reese Grant'}, {'id': 1, 'name': 'Jenna Kinney'}, {'id': 2, 'name': 'Rhea May'}], 'greeting': 'Hello, Chan Hurley! You have 7 unread messages.', 'favoriteFruit': 'apple'}\n",
      "----------------------------------------------------------------- \n",
      "\n",
      "{'_id': '54e23c3eb813e66c6d33aa82', 'index': 13, 'guid': '6fd14a8e-3158-48eb-a7e1-93fe57b74746', 'isActive': True, 'balance': 3594.99, 'picture': 'http://placehold.it/32x32', 'age': 40, 'eyeColor': 'blue', 'name': 'Diaz Pena', 'gender': 'male', 'company': 'SUREPLEX', 'email': 'diazpena@sureplex.com', 'phone': '+1 (986) 511-3050', 'address': '184 Kingsway Place, Grantville, Michigan, 2421', 'about': 'Enim elit amet officia consectetur do Lorem reprehenderit cupidatat exercitation velit. Ex tempor esse consectetur dolore aute et. Cupidatat duis nulla in incididunt nulla ullamco non magna officia commodo anim. Labore quis ullamco est deserunt excepteur duis nostrud deserunt cillum proident. Non eiusmod consectetur pariatur deserunt irure quis exercitation ex incididunt quis dolore pariatur sunt irure. Eu do fugiat laboris tempor culpa.\\r\\n', 'registered': '2014-04-19T20:43:12 +05:00', 'latitude': 6.606991, 'longitude': 81.593748, 'tags': ['excepteur', 'elit', 'ullamco', 'excepteur', 'ad', 'quis', 'dolore'], 'friends': [{'id': 0, 'name': 'Mcmillan Knox'}, {'id': 1, 'name': 'Flossie Dixon'}, {'id': 2, 'name': 'Sears Carson'}], 'greeting': 'Hello, Diaz Pena! You have 13 unread messages.', 'favoriteFruit': 'strawberry'}\n",
      "----------------------------------------------------------------- \n",
      "\n",
      "{'_id': '54e23c3e502a2f526b689c3e', 'index': 14, 'guid': '459cc82d-7878-42cb-b9c6-073506380036', 'isActive': True, 'balance': 2940.24, 'picture': 'http://placehold.it/32x32', 'age': 40, 'eyeColor': 'brown', 'name': 'Heath Castaneda', 'gender': 'male', 'company': 'NETPLODE', 'email': 'heathcastaneda@netplode.com', 'phone': '+1 (944) 478-3741', 'address': '278 Village Road, Sunnyside, Massachusetts, 7496', 'about': 'Consectetur mollit cupidatat ex consectetur eiusmod ut. Cupidatat anim cupidatat cupidatat minim ipsum et quis amet proident pariatur. Do consectetur fugiat quis nisi non. Ut eu consequat consequat in ullamco eiusmod quis cillum sunt dolore anim. Non irure aliqua aliqua enim elit labore consequat.\\r\\n', 'registered': '2014-07-30T21:38:43 +05:00', 'latitude': 69.928876, 'longitude': 33.649878, 'tags': ['elit', 'commodo', 'ut', 'ullamco', 'ullamco', 'velit', 'ullamco'], 'friends': [{'id': 0, 'name': 'Dora Mack'}, {'id': 1, 'name': 'Christensen Camacho'}, {'id': 2, 'name': 'Castro Kelly'}], 'greeting': 'Hello, Heath Castaneda! You have 12 unread messages.', 'favoriteFruit': 'strawberry'}\n",
      "----------------------------------------------------------------- \n",
      "\n",
      "{'_id': '54e23c3e69d22e49c7fe62de', 'index': 15, 'guid': '33d2bbe5-d6f7-4844-88fc-b9f6af63b373', 'isActive': False, 'balance': 3062.41, 'picture': 'http://placehold.it/32x32', 'age': 38, 'eyeColor': 'brown', 'name': 'Greer Blankenship', 'gender': 'male', 'company': 'QUALITERN', 'email': 'greerblankenship@qualitern.com', 'phone': '+1 (957) 482-3874', 'address': '557 Ingraham Street, Brambleton, South Dakota, 8482', 'about': 'Non in excepteur nostrud consectetur. Qui non consectetur officia incididunt elit laboris exercitation exercitation est minim veniam ullamco dolore. Eu sit aute culpa ex sunt amet. Ut et amet Lorem sunt anim pariatur.\\r\\n', 'registered': '2014-03-30T21:39:41 +05:00', 'latitude': -71.093388, 'longitude': 65.740255, 'tags': ['enim', 'eiusmod', 'Lorem', 'reprehenderit', 'nisi', 'anim', 'sunt'], 'friends': [{'id': 0, 'name': 'Woods Norman'}, {'id': 1, 'name': 'Marilyn Haney'}, {'id': 2, 'name': 'Webster Nielsen'}], 'greeting': 'Hello, Greer Blankenship! You have 7 unread messages.', 'favoriteFruit': 'banana'}\n",
      "----------------------------------------------------------------- \n",
      "\n",
      "{'_id': '54e23c3e42676228c442a669', 'index': 16, 'guid': 'e44604f0-c7a8-4b89-bda3-0f4710ebe28a', 'isActive': False, 'balance': 3067.82, 'picture': 'http://placehold.it/32x32', 'age': 32, 'eyeColor': 'green', 'name': 'Coffey Hayes', 'gender': 'male', 'company': 'INQUALA', 'email': 'coffeyhayes@inquala.com', 'phone': '+1 (880) 451-3490', 'address': '490 Durland Place, Craig, Tennessee, 5034', 'about': 'Est esse irure Lorem ullamco veniam fugiat laborum veniam excepteur. Ad enim pariatur nostrud excepteur et nostrud velit dolore ex enim cillum in aliquip fugiat. Nulla laborum exercitation irure magna elit laborum magna ad excepteur. Cillum pariatur Lorem eiusmod ad dolore eiusmod veniam do minim laborum in dolor. Reprehenderit elit ad id voluptate Lorem Lorem dolor cupidatat excepteur. Proident minim ea aute nulla.\\r\\n', 'registered': '2014-04-01T23:04:39 +05:00', 'latitude': -30.662644, 'longitude': 59.806684, 'tags': ['duis', 'est', 'in', 'officia', 'nostrud', 'occaecat', 'mollit'], 'friends': [{'id': 0, 'name': 'Suarez Perry'}, {'id': 1, 'name': 'Marlene Sheppard'}, {'id': 2, 'name': 'Cohen Yates'}], 'greeting': 'Hello, Coffey Hayes! You have 19 unread messages.', 'favoriteFruit': 'strawberry'}\n",
      "----------------------------------------------------------------- \n",
      "\n",
      "{'_id': '54e23c3e4ac5969958013235', 'index': 17, 'guid': 'fa7e26df-d239-41e8-9aa9-be5e808b6f89', 'isActive': True, 'balance': 2646.76, 'picture': 'http://placehold.it/32x32', 'age': 24, 'eyeColor': 'brown', 'name': 'Leanne Hurst', 'gender': 'female', 'company': 'ACCIDENCY', 'email': 'leannehurst@accidency.com', 'phone': '+1 (820) 420-3317', 'address': '196 Columbus Place, Carbonville, New Jersey, 7513', 'about': 'Dolor occaecat dolore ut tempor. Veniam elit anim duis do pariatur. Qui excepteur nisi eiusmod mollit laboris fugiat commodo ipsum reprehenderit labore cillum. Aliquip laborum commodo nisi cupidatat labore nostrud exercitation adipisicing mollit eu magna proident ex Lorem. Nostrud magna sint sint consequat consectetur et sint.\\r\\n', 'registered': '2014-11-10T01:25:55 +06:00', 'latitude': 16.671695, 'longitude': 139.707959, 'tags': ['culpa', 'deserunt', 'tempor', 'quis', 'reprehenderit', 'incididunt', 'est'], 'friends': [{'id': 0, 'name': 'Farley Frank'}, {'id': 1, 'name': 'Pruitt Frye'}, {'id': 2, 'name': 'Simpson Cardenas'}], 'greeting': 'Hello, Leanne Hurst! You have 5 unread messages.', 'favoriteFruit': 'banana'}\n",
      "----------------------------------------------------------------- \n",
      "\n",
      "{'_id': '54e23c3ed945981ba2580614', 'index': 18, 'guid': 'e608dc5c-fee4-4086-971b-3ebd37bfa137', 'isActive': True, 'balance': 2227.79, 'picture': 'http://placehold.it/32x32', 'age': 22, 'eyeColor': 'brown', 'name': 'Ewing Larson', 'gender': 'male', 'company': 'ESCENTA', 'email': 'ewinglarson@escenta.com', 'phone': '+1 (943) 439-3760', 'address': '136 Beard Street, Wattsville, New Hampshire, 2803', 'about': 'Veniam eiusmod exercitation culpa mollit reprehenderit ullamco voluptate voluptate irure qui duis anim et. Laborum dolor quis do voluptate. In pariatur dolor id mollit et enim. Qui ex qui in cillum irure enim non reprehenderit irure et excepteur aliquip eu eu.\\r\\n', 'registered': '2014-07-21T19:17:41 +05:00', 'latitude': 15.903555, 'longitude': -159.721203, 'tags': ['Lorem', 'magna', 'dolor', 'aliquip', 'reprehenderit', 'eu', 'voluptate'], 'friends': [{'id': 0, 'name': 'Suzette Huffman'}, {'id': 1, 'name': 'Paige Santiago'}, {'id': 2, 'name': 'Dollie Fernandez'}], 'greeting': 'Hello, Ewing Larson! You have 16 unread messages.', 'favoriteFruit': 'strawberry'}\n",
      "----------------------------------------------------------------- \n",
      "\n"
     ]
    }
   ],
   "source": [
    "for i in data:\n",
    "    print(i)\n",
    "    print('-----------------------------------------------------------------', '\\n')"
   ]
  },
  {
   "cell_type": "code",
   "execution_count": 151,
   "id": "5a1d257f",
   "metadata": {},
   "outputs": [],
   "source": [
    "def clean_balance(balance):\n",
    "    balance = balance.replace(\"$\",\"\")\n",
    "    balance = balance.replace(\",\",\"\")\n",
    "    return float(balance)"
   ]
  },
  {
   "cell_type": "code",
   "execution_count": 152,
   "id": "60b2ef34",
   "metadata": {},
   "outputs": [],
   "source": [
    "clean = clean_balance(\"$10,213.41\")"
   ]
  },
  {
   "cell_type": "code",
   "execution_count": 154,
   "id": "1108ee1d",
   "metadata": {},
   "outputs": [
    {
     "data": {
      "text/plain": [
       "float"
      ]
     },
     "execution_count": 154,
     "metadata": {},
     "output_type": "execute_result"
    }
   ],
   "source": [
    "type(clean)"
   ]
  },
  {
   "cell_type": "code",
   "execution_count": 158,
   "id": "78898811",
   "metadata": {},
   "outputs": [],
   "source": [
    "for i in data:\n",
    "    i['balance'] = clean_balance(i['balance'])"
   ]
  },
  {
   "cell_type": "markdown",
   "id": "31402ba7",
   "metadata": {},
   "source": [
    "#### 3a. Total number of users"
   ]
  },
  {
   "cell_type": "code",
   "execution_count": 217,
   "id": "eaded24c",
   "metadata": {},
   "outputs": [
    {
     "name": "stdout",
     "output_type": "stream",
     "text": [
      "19\n"
     ]
    }
   ],
   "source": [
    "users = 0\n",
    "for i in data:\n",
    "    users += 1\n",
    "print(users)"
   ]
  },
  {
   "cell_type": "markdown",
   "id": "53c06959",
   "metadata": {},
   "source": [
    "#### 3b. Number of active users"
   ]
  },
  {
   "cell_type": "code",
   "execution_count": 228,
   "id": "29512092",
   "metadata": {},
   "outputs": [
    {
     "name": "stdout",
     "output_type": "stream",
     "text": [
      "9\n"
     ]
    }
   ],
   "source": [
    "active = 0\n",
    "for i in data:\n",
    "    if i['isActive'] == True:\n",
    "        active += 1\n",
    "print(active)"
   ]
  },
  {
   "cell_type": "markdown",
   "id": "06a87326",
   "metadata": {},
   "source": [
    "#### 3c. Number of inactive users"
   ]
  },
  {
   "cell_type": "code",
   "execution_count": 223,
   "id": "5206c1fd",
   "metadata": {},
   "outputs": [
    {
     "name": "stdout",
     "output_type": "stream",
     "text": [
      "10\n"
     ]
    }
   ],
   "source": [
    "inactive = 0\n",
    "for i in data:\n",
    "    if i['isActive'] == False:\n",
    "        inactive += 1\n",
    "print(inactive)"
   ]
  },
  {
   "cell_type": "markdown",
   "id": "e7f1d95e",
   "metadata": {},
   "source": [
    "#### 3d. Grand total of balances for all users"
   ]
  },
  {
   "cell_type": "code",
   "execution_count": 227,
   "id": "e66fbee2",
   "metadata": {},
   "outputs": [
    {
     "ename": "TypeError",
     "evalue": "'float' object is not iterable",
     "output_type": "error",
     "traceback": [
      "\u001b[0;31m---------------------------------------------------------------------------\u001b[0m",
      "\u001b[0;31mTypeError\u001b[0m                                 Traceback (most recent call last)",
      "Input \u001b[0;32mIn [227]\u001b[0m, in \u001b[0;36m<cell line: 2>\u001b[0;34m()\u001b[0m\n\u001b[1;32m      1\u001b[0m all_users \u001b[38;5;241m=\u001b[39m \u001b[38;5;241m0\u001b[39m\n\u001b[1;32m      2\u001b[0m \u001b[38;5;28;01mfor\u001b[39;00m i \u001b[38;5;129;01min\u001b[39;00m data:\n\u001b[0;32m----> 3\u001b[0m     i[\u001b[38;5;124m'\u001b[39m\u001b[38;5;124mbalance\u001b[39m\u001b[38;5;124m'\u001b[39m] \u001b[38;5;241m=\u001b[39m \u001b[38;5;28;43msum\u001b[39;49m\u001b[43m(\u001b[49m\u001b[43mi\u001b[49m\u001b[43m[\u001b[49m\u001b[38;5;124;43m'\u001b[39;49m\u001b[38;5;124;43mbalance\u001b[39;49m\u001b[38;5;124;43m'\u001b[39;49m\u001b[43m]\u001b[49m\u001b[43m)\u001b[49m\n\u001b[1;32m      4\u001b[0m     all_users \u001b[38;5;241m=\u001b[39m all_users \u001b[38;5;241m+\u001b[39m i[\u001b[38;5;124m'\u001b[39m\u001b[38;5;124mbalance\u001b[39m\u001b[38;5;124m'\u001b[39m]\n\u001b[1;32m      5\u001b[0m \u001b[38;5;28mprint\u001b[39m(all_users)\n",
      "\u001b[0;31mTypeError\u001b[0m: 'float' object is not iterable"
     ]
    }
   ],
   "source": [
    "all_users = 0\n",
    "for i in data:\n",
    "    i['balance'] = sum(i['balance'])\n",
    "    all_users = all_users + i['balance']\n",
    "print(all_users)"
   ]
  },
  {
   "cell_type": "code",
   "execution_count": 216,
   "id": "32ecee30",
   "metadata": {},
   "outputs": [
    {
     "name": "stdout",
     "output_type": "stream",
     "text": [
      "52667.02\n"
     ]
    }
   ],
   "source": [
    "total_balance = 0\n",
    "for i in data:\n",
    "    if i['balance'] >= 0:\n",
    "        total_balance = total_balance + i['balance']\n",
    "print(counter)\n",
    "    "
   ]
  },
  {
   "cell_type": "code",
   "execution_count": 215,
   "id": "27832399",
   "metadata": {},
   "outputs": [
    {
     "data": {
      "text/plain": [
       "2097.02"
      ]
     },
     "execution_count": 215,
     "metadata": {},
     "output_type": "execute_result"
    }
   ],
   "source": [
    "def average_balance_overall(data):\n",
    "    counter = 0\n",
    "    for i in data:\n",
    "        if i['balance'] >= 0:\n",
    "            counter = counter + i['balance']\n",
    "            return(counter)\n",
    "average_balance_overall(data)"
   ]
  },
  {
   "cell_type": "markdown",
   "id": "875a4428",
   "metadata": {},
   "source": [
    "#### 3e. Average balance per user"
   ]
  },
  {
   "cell_type": "code",
   "execution_count": 218,
   "id": "327a1cd7",
   "metadata": {},
   "outputs": [],
   "source": [
    "# Class Review Solution\n",
    "\n",
    "avg_balance = total_balance/users"
   ]
  },
  {
   "cell_type": "code",
   "execution_count": 220,
   "id": "a9a0acb6",
   "metadata": {},
   "outputs": [
    {
     "name": "stdout",
     "output_type": "stream",
     "text": [
      "2771.9484210526316\n"
     ]
    }
   ],
   "source": [
    "print(avg_balance)"
   ]
  },
  {
   "cell_type": "markdown",
   "id": "0ab7230e",
   "metadata": {},
   "source": [
    "#### 3f."
   ]
  },
  {
   "cell_type": "code",
   "execution_count": 224,
   "id": "d8cdfef7",
   "metadata": {},
   "outputs": [
    {
     "data": {
      "text/plain": [
       "1"
      ]
     },
     "execution_count": 224,
     "metadata": {},
     "output_type": "execute_result"
    }
   ],
   "source": [
    "min([1,2,3,4])"
   ]
  },
  {
   "cell_type": "code",
   "execution_count": 225,
   "id": "413cfc27",
   "metadata": {},
   "outputs": [
    {
     "data": {
      "text/plain": [
       "[2097.02,\n",
       " 3654.02,\n",
       " 1536.02,\n",
       " 3919.64,\n",
       " 3681.39,\n",
       " 1694.42,\n",
       " 1214.1,\n",
       " 2930.31,\n",
       " 1944.15,\n",
       " 2839.22,\n",
       " 2467.31,\n",
       " 3304.99,\n",
       " 3844.42,\n",
       " 3594.99,\n",
       " 2940.24,\n",
       " 3062.41,\n",
       " 3067.82,\n",
       " 2646.76,\n",
       " 2227.79]"
      ]
     },
     "execution_count": 225,
     "metadata": {},
     "output_type": "execute_result"
    }
   ],
   "source": [
    "list_of_balances = [i['balance'] for i in data]\n",
    "list_of_balances"
   ]
  },
  {
   "cell_type": "code",
   "execution_count": 226,
   "id": "c622e842",
   "metadata": {},
   "outputs": [
    {
     "data": {
      "text/plain": [
       "1214.1"
      ]
     },
     "execution_count": 226,
     "metadata": {},
     "output_type": "execute_result"
    }
   ],
   "source": [
    "min(list_of_balances)"
   ]
  },
  {
   "cell_type": "code",
   "execution_count": 230,
   "id": "70c27371",
   "metadata": {},
   "outputs": [
    {
     "name": "stdout",
     "output_type": "stream",
     "text": [
      "User Avery Flynn has the lowest balance 1214.1\n"
     ]
    }
   ],
   "source": [
    "# Class Review Solution\n",
    "for i in data:\n",
    "    if i['balance'] == min(list_of_balances):\n",
    "        print(f'User {i[\"name\"]} has the lowest balance {i[\"balance\"]}')"
   ]
  },
  {
   "cell_type": "code",
   "execution_count": 231,
   "id": "0783a537",
   "metadata": {},
   "outputs": [
    {
     "name": "stdout",
     "output_type": "stream",
     "text": [
      "User Fay Hammond has the lowest balance 3919.64\n"
     ]
    }
   ],
   "source": [
    "for i in data:\n",
    "    if i['balance'] == max(list_of_balances):\n",
    "        print(f'User {i[\"name\"]} has the lowest balance {i[\"balance\"]}')"
   ]
  },
  {
   "cell_type": "markdown",
   "id": "143d3aa4",
   "metadata": {},
   "source": [
    "#### 3h."
   ]
  },
  {
   "cell_type": "code",
   "execution_count": 232,
   "id": "a6f53574",
   "metadata": {},
   "outputs": [],
   "source": [
    "fruits = []\n",
    "for i in data:\n",
    "    fruits.append(i[\"favoriteFruit\"])"
   ]
  },
  {
   "cell_type": "code",
   "execution_count": 233,
   "id": "24f7ec73",
   "metadata": {},
   "outputs": [
    {
     "data": {
      "text/plain": [
       "['strawberry',\n",
       " 'apple',\n",
       " 'banana',\n",
       " 'banana',\n",
       " 'apple',\n",
       " 'apple',\n",
       " 'banana',\n",
       " 'strawberry',\n",
       " 'strawberry',\n",
       " 'banana',\n",
       " 'strawberry',\n",
       " 'strawberry',\n",
       " 'apple',\n",
       " 'strawberry',\n",
       " 'strawberry',\n",
       " 'banana',\n",
       " 'strawberry',\n",
       " 'banana',\n",
       " 'strawberry']"
      ]
     },
     "execution_count": 233,
     "metadata": {},
     "output_type": "execute_result"
    }
   ],
   "source": [
    "fruits"
   ]
  },
  {
   "cell_type": "code",
   "execution_count": 234,
   "id": "6bbac74c",
   "metadata": {},
   "outputs": [
    {
     "data": {
      "text/plain": [
       "'strawberry'"
      ]
     },
     "execution_count": 234,
     "metadata": {},
     "output_type": "execute_result"
    }
   ],
   "source": [
    "max(fruits)"
   ]
  },
  {
   "cell_type": "code",
   "execution_count": 235,
   "id": "c91f98e9",
   "metadata": {},
   "outputs": [
    {
     "data": {
      "text/plain": [
       "'apple'"
      ]
     },
     "execution_count": 235,
     "metadata": {},
     "output_type": "execute_result"
    }
   ],
   "source": [
    "min(fruits)"
   ]
  },
  {
   "cell_type": "code",
   "execution_count": null,
   "id": "89a1d90f",
   "metadata": {},
   "outputs": [],
   "source": [
    "unread_msgs = 0\n",
    "for i in data:\n",
    "    if "
   ]
  },
  {
   "cell_type": "code",
   "execution_count": 237,
   "id": "5981d556",
   "metadata": {},
   "outputs": [],
   "source": [
    "# Class Review Solution\n",
    "message = i['greeting'].split(' ')"
   ]
  },
  {
   "cell_type": "code",
   "execution_count": 238,
   "id": "99c2b357",
   "metadata": {},
   "outputs": [
    {
     "data": {
      "text/plain": [
       "['Hello,', 'Ewing', 'Larson!', 'You', 'have', '16', 'unread', 'messages.']"
      ]
     },
     "execution_count": 238,
     "metadata": {},
     "output_type": "execute_result"
    }
   ],
   "source": [
    "message"
   ]
  },
  {
   "cell_type": "code",
   "execution_count": 239,
   "id": "29c78176",
   "metadata": {},
   "outputs": [
    {
     "name": "stdout",
     "output_type": "stream",
     "text": [
      "this is a number 16\n"
     ]
    }
   ],
   "source": [
    "for word in message:\n",
    "    if word.isdigit():\n",
    "        print('this is a number', word)"
   ]
  },
  {
   "cell_type": "code",
   "execution_count": 244,
   "id": "2b181513",
   "metadata": {},
   "outputs": [],
   "source": [
    "sum_messages = 0\n",
    "for i in data:\n",
    "    message = i['greeting'].split(' ')\n",
    "    for word in message:\n",
    "        if word.isdigit():\n",
    "            sum_messages = sum_messages + int(word)"
   ]
  },
  {
   "cell_type": "code",
   "execution_count": 245,
   "id": "bad47a72",
   "metadata": {},
   "outputs": [
    {
     "data": {
      "text/plain": [
       "210"
      ]
     },
     "execution_count": 245,
     "metadata": {},
     "output_type": "execute_result"
    }
   ],
   "source": [
    "sum_messages"
   ]
  },
  {
   "cell_type": "code",
   "execution_count": null,
   "id": "482391a4",
   "metadata": {},
   "outputs": [],
   "source": []
  }
 ],
 "metadata": {
  "kernelspec": {
   "display_name": "Python 3 (ipykernel)",
   "language": "python",
   "name": "python3"
  },
  "language_info": {
   "codemirror_mode": {
    "name": "ipython",
    "version": 3
   },
   "file_extension": ".py",
   "mimetype": "text/x-python",
   "name": "python",
   "nbconvert_exporter": "python",
   "pygments_lexer": "ipython3",
   "version": "3.9.13"
  }
 },
 "nbformat": 4,
 "nbformat_minor": 5
}
